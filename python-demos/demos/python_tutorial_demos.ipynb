{
 "cells": [
  {
   "cell_type": "markdown",
   "id": "9dd254f5-fc99-49d1-9a41-e3024668d896",
   "metadata": {},
   "source": [
    "# Demos for the Python Tutorial\n",
    "\n",
    "- Python Tutorial: https://docs.python.org/3.12/tutorial/index.html\n",
    "- W3School Python Tutorial: https://www.w3schools.com/python/default.asp\n"
   ]
  },
  {
   "cell_type": "code",
   "execution_count": 157,
   "id": "d6e6e87c-ebfa-40ea-87ea-2b6e227d0023",
   "metadata": {},
   "outputs": [],
   "source": [
    "# utilities\n",
    "import time\n",
    "from functools import wraps\n",
    "\n",
    "def ptimeit(func):\n",
    "    @wraps(func)\n",
    "    def wrapper(*args, **kwargs):\n",
    "        start_time = time.time()\n",
    "        result = func(args, kwargs)\n",
    "        end_time = time.time()\n",
    "        execution_time = end_time - start_time\n",
    "        print(f'Execution time of \"{func.__name__}\" is {execution_time:.6f} seconds')\n",
    "        return result\n",
    "    return wrapper\n",
    "\n",
    "\n",
    "def pwrite(v):\n",
    "    print(f'type- {type(v)}, !r- {v!r}, !s- {v!s}')"
   ]
  },
  {
   "cell_type": "markdown",
   "id": "1cb40175-ea7b-41b0-8c16-ce411a3af067",
   "metadata": {},
   "source": [
    "## keywords\n",
    "\n",
    "```\n",
    "False      await      else       import     pass\n",
    "None       break      except     in         raise\n",
    "True       class      finally    is         return\n",
    "and        continue   for        lambda     try\n",
    "as         def        from       nonlocal   while\n",
    "assert     del        global     not        with\n",
    "async      elif       if         or         yield\n",
    "```"
   ]
  },
  {
   "cell_type": "code",
   "execution_count": 386,
   "id": "4013a1f4-4c0d-4446-abee-4691070c47fe",
   "metadata": {},
   "outputs": [
    {
     "name": "stdout",
     "output_type": "stream",
     "text": [
      "\"hello\".isidentifier()=True,        iskeyword(\"hello\")=False\n",
      "\"def\".isidentifier()=True,        iskeyword(\"def\")=True\n"
     ]
    }
   ],
   "source": [
    "from keyword import iskeyword\n",
    "\n",
    "print(f'{\"hello\".isidentifier()=},        {iskeyword(\"hello\")=}')\n",
    "print(f'{\"def\".isidentifier()=},        {iskeyword(\"def\")=}')"
   ]
  },
  {
   "cell_type": "markdown",
   "id": "1aad19b1-5206-4f2b-ad59-163f34589426",
   "metadata": {},
   "source": [
    "## Comments and Variables"
   ]
  },
  {
   "cell_type": "code",
   "execution_count": 1,
   "id": "04bf1330-af22-4750-8560-d3836e7fabf5",
   "metadata": {},
   "outputs": [],
   "source": [
    "# this is the first comment\n",
    "spam = 1 # and this is the second comment\n",
    "         # ... and now a third"
   ]
  },
  {
   "cell_type": "code",
   "execution_count": 5,
   "id": "dc4c25ba-d334-4202-8960-7a764b544352",
   "metadata": {},
   "outputs": [
    {
     "name": "stdout",
     "output_type": "stream",
     "text": [
      "5 a\n",
      "3 <class 'str'> <class 'type'>\n",
      "3 <class 'int'>\n",
      "3.0 <class 'float'>\n",
      "(3+0j) <class 'complex'>\n",
      "4 DDD\n"
     ]
    }
   ],
   "source": [
    "# creating variables\n",
    "\n",
    "x = 5\n",
    "y = 'a'\n",
    "print(x, y)\n",
    "\n",
    "# casting\n",
    "x = str(3)\n",
    "y = int(3)\n",
    "z = float(3)\n",
    "w = complex(3)\n",
    "\n",
    "# use `class type` to get the Type of the variables\n",
    "print(x, type(x), type(type(x)))\n",
    "print(y, type(y))\n",
    "print(z, type(z))\n",
    "print(w, type(w))\n",
    "\n",
    "\n",
    "# case-sensitive\n",
    "# the belows are two variables\n",
    "a = 4\n",
    "A = 'DDD'\n",
    "print(a, A)\n"
   ]
  },
  {
   "cell_type": "markdown",
   "id": "24f15274-626f-4554-a682-8e8d99de5e5d",
   "metadata": {},
   "source": [
    "### global variables"
   ]
  },
  {
   "cell_type": "code",
   "execution_count": null,
   "id": "2501f3a5-8b13-4b63-9d92-a30dc0fd9528",
   "metadata": {},
   "outputs": [],
   "source": [
    "x = 'AAAA'  # this is a global variable\n",
    "\n",
    "def func1():\n",
    "    x = 'BBB'  # this is a local variable\n",
    "    print(x)   # will print the value of the local variable\n",
    "\n",
    "func1()  # will print the value of local variable\n",
    "\n",
    "\n",
    "def func2():\n",
    "    print(x)   # will print the value of the global variable\n",
    "\n",
    "func2()"
   ]
  },
  {
   "cell_type": "code",
   "execution_count": 10,
   "id": "7359d873-5d08-494c-ac08-f2ffce3aaf1e",
   "metadata": {},
   "outputs": [
    {
     "name": "stdout",
     "output_type": "stream",
     "text": [
      "AAA\n",
      "CCC\n",
      "CCC\n"
     ]
    }
   ],
   "source": [
    "x = 'AAA'\n",
    "\n",
    "def func3():\n",
    "    global x\n",
    "    x = 'CCC'  # change the value of the global variable\n",
    "    print(x)\n",
    "\n",
    "print(x)\n",
    "func3()\n",
    "print(x)"
   ]
  },
  {
   "cell_type": "markdown",
   "id": "9e35c5fa-845e-4d9a-8094-6172e576f0da",
   "metadata": {},
   "source": [
    "## Using Python (Interpreter) as a Calculator"
   ]
  },
  {
   "cell_type": "code",
   "execution_count": 2,
   "id": "5be4fb44-9eb7-4371-b16a-9a68dda86e6b",
   "metadata": {},
   "outputs": [
    {
     "data": {
      "text/plain": [
       "4"
      ]
     },
     "execution_count": 2,
     "metadata": {},
     "output_type": "execute_result"
    }
   ],
   "source": [
    "2+2"
   ]
  },
  {
   "cell_type": "code",
   "execution_count": 2,
   "id": "8bf2b0df-98d7-43c3-83a5-675ad5e4c7fd",
   "metadata": {},
   "outputs": [
    {
     "data": {
      "text/plain": [
       "35"
      ]
     },
     "execution_count": 2,
     "metadata": {},
     "output_type": "execute_result"
    }
   ],
   "source": [
    "50 - 3 * 5"
   ]
  },
  {
   "cell_type": "code",
   "execution_count": 3,
   "id": "13bfb689-2511-40e7-bde0-11bbc9c41daa",
   "metadata": {},
   "outputs": [
    {
     "data": {
      "text/plain": [
       "8.75"
      ]
     },
     "execution_count": 3,
     "metadata": {},
     "output_type": "execute_result"
    }
   ],
   "source": [
    "(50 - 3 * 5) / 4"
   ]
  },
  {
   "cell_type": "code",
   "execution_count": 5,
   "id": "b53dd6ea-0669-429e-be6f-b8473e370510",
   "metadata": {},
   "outputs": [
    {
     "data": {
      "text/plain": [
       "25"
      ]
     },
     "execution_count": 5,
     "metadata": {},
     "output_type": "execute_result"
    }
   ],
   "source": [
    "5 ** 2   # 5 squared"
   ]
  },
  {
   "cell_type": "code",
   "execution_count": 6,
   "id": "6f21e793-575d-4409-9f37-5e46de3339a0",
   "metadata": {},
   "outputs": [
    {
     "data": {
      "text/plain": [
       "256"
      ]
     },
     "execution_count": 6,
     "metadata": {},
     "output_type": "execute_result"
    }
   ],
   "source": [
    "2 ** 8   # 2 to the power of 8"
   ]
  },
  {
   "cell_type": "markdown",
   "id": "fbc2aa55-d936-40de-be5b-9f233961d3f2",
   "metadata": {},
   "source": [
    "### Using `=` to assign a value to a variable"
   ]
  },
  {
   "cell_type": "code",
   "execution_count": 7,
   "id": "6d9286bc-1cd7-4752-9886-9846b4f732e9",
   "metadata": {},
   "outputs": [],
   "source": [
    "width = 20"
   ]
  },
  {
   "cell_type": "code",
   "execution_count": 8,
   "id": "52e4c77a-f296-4b22-9e7b-cdba1bed3e61",
   "metadata": {},
   "outputs": [],
   "source": [
    "height = 30"
   ]
  },
  {
   "cell_type": "code",
   "execution_count": 9,
   "id": "de002cde-941b-4702-8e57-8994f243254b",
   "metadata": {},
   "outputs": [
    {
     "data": {
      "text/plain": [
       "600"
      ]
     },
     "execution_count": 9,
     "metadata": {},
     "output_type": "execute_result"
    }
   ],
   "source": [
    "width * height"
   ]
  },
  {
   "cell_type": "code",
   "execution_count": 10,
   "id": "e5db7930-c7d8-4611-a886-3d05d4ef35c7",
   "metadata": {},
   "outputs": [
    {
     "data": {
      "text/plain": [
       "600"
      ]
     },
     "execution_count": 10,
     "metadata": {},
     "output_type": "execute_result"
    }
   ],
   "source": [
    "_   # in interactive mode, the last printed expression is assigned to the variable `_` .  "
   ]
  },
  {
   "cell_type": "markdown",
   "id": "5b5dcb88",
   "metadata": {},
   "source": [
    "## Data types\n",
    "\n",
    "1. `None`\n",
    "2. `NotImplemented`\n",
    "3. `Ellipsis` or `...`\n",
    "4. Numbers\n",
    "    1. `class int`\n",
    "        1. `class bool`\n",
    "    2. `class float`\n",
    "    3. `class complex`\n",
    "5. Sequences\n",
    "    1. Immutable sequences\n",
    "        1. `class str`\n",
    "        2. `class tuple`\n",
    "        3. `class bytes`\n",
    "        4. `class range`\n",
    "    2. Mutable sequences\n",
    "        1. `class list`\n",
    "        2. `class bytearray`\n",
    "6. Set types\n",
    "    1. `class set`       - mutable\n",
    "    2. `class frozenset` - immutable\n",
    "7. Mappings\n",
    "    1. `class dict`      - mutable\n",
    "8. Callable types\n",
    "9. Modules"
   ]
  },
  {
   "cell_type": "markdown",
   "id": "80fc8779-4cad-4c3b-9012-e3b261bd069c",
   "metadata": {},
   "source": [
    "## Sequence types"
   ]
  },
  {
   "cell_type": "markdown",
   "id": "cb1d1eba-9493-4a6c-a907-f43cda3fe081",
   "metadata": {},
   "source": [
    "### Common sequence operations\n",
    "\n",
    "\n",
    "|     operation      | note                                            |\n",
    "| :----------------- | :---------------------------------------------  |\n",
    "| `x in s`           |  True if an item of s is equal to x, else False |\n",
    "| `x not in s`       |  False if an item of s is equal to x, else True |\n",
    "| | |\n",
    "| `s + t`            |  the concatenation of s and t                   |\n",
    "| `s * n` or `n * s` |  equivalent to adding s to itself n times       |\n",
    "| | |\n",
    "| `s[i]`             |  ith item of s, origin 0                        |\n",
    "| `s[i:j]`           |  slice of s from i to j                         |\n",
    "| `s[i:j:k]`         |  slice of s from i to j with step k             |\n",
    "| | |\n",
    "| `len(s)`           |  length of s                                    |\n",
    "| `min(s)`           |  smallest item of s                             |\n",
    "| `max(s)`           |  largest item of s                              |\n",
    "| | |\n",
    "| `s.index(x)`       |  index of the first occurrence of x in s        |\n",
    "| `s.count(x)`       |  total number of occurence of x in s            |\n"
   ]
  },
  {
   "cell_type": "markdown",
   "id": "ce444997-f675-48ff-a8d3-692df03faba9",
   "metadata": {},
   "source": [
    "### Immutable sequence operations\n",
    "\n",
    "| operation | note |\n",
    "| --------- | ---- |\n",
    "| `s[i] = x`     | item i of s is replaced by x |\n",
    "| | |\n",
    "| `s[i:j] = t`   | slice of s from i to j is replaced by the contents of the iterable t |\n",
    "| `s[i:j:k] = t` | the elements of `s[i:j:k]` are replaced by those of t |\n",
    "| | |\n",
    "| `del s[i:j]`   | same as `s[i:j] = []` |\n",
    "| `del s[i:j:k]` | remove the elements of `s[i:j:k]` from the list |\n",
    "| | |\n",
    "| `s.append(x)`           ｜ append x to the end of the sequence (same as `s[len(s):len(s)] = [x]` |\n",
    "| `s.insert(i, x)`        | insert x into s at the index given by i (same as `s[i:i] = [x]`) |\n",
    "| `s.pop()` or `s.pop(i)` | retrieves the item at i and also removes it from s |\n",
    "| `s.remove(x)`           | remove the first item from s where `s[i]` is equal to x |\n",
    "| | |\n",
    "| `s.clear()`    | removes all items from s (same as `del s[:]`) |\n",
    "| `s.copy()`     | create a shallow copy of s (same as `s[:]` ) |\n",
    "| `s.reverse()`  | reverses the items of in place |\n",
    "| | |\n",
    "| `s.extend(t)` or `s += t` | extends s with the contents of t (for the most part the same as `s[len(s):len(s)] = t` |\n",
    "| `s *= n`                  | update s with its contents repeated n times |\n"
   ]
  },
  {
   "cell_type": "markdown",
   "id": "5dba0272-e5c5-4662-a501-8db5eee018c1",
   "metadata": {},
   "source": [
    "## Numbers\n",
    "\n",
    "### Lib/numbers.py\n",
    "\n",
    "```\n",
    "class Number\n",
    "    class Complex\n",
    "        class complex\n",
    "        class Real\n",
    "            class float\n",
    "            class Rational\n",
    "                class Integral\n",
    "                    class int\n",
    "                        class bool\n",
    "```"
   ]
  },
  {
   "cell_type": "markdown",
   "id": "56b3e33b-7df8-458f-b0ba-551ceb74cba5",
   "metadata": {},
   "source": [
    "### Numbers - int"
   ]
  },
  {
   "cell_type": "code",
   "execution_count": 34,
   "id": "c4200463-7799-411a-aefe-6d1434a27cd6",
   "metadata": {},
   "outputs": [
    {
     "data": {
      "text/plain": [
       "sys.int_info(bits_per_digit=30, sizeof_digit=4, default_max_str_digits=4300, str_digits_check_threshold=640)"
      ]
     },
     "execution_count": 34,
     "metadata": {},
     "output_type": "execute_result"
    }
   ],
   "source": [
    "import sys\n",
    "\n",
    "sys.int_info"
   ]
  },
  {
   "cell_type": "code",
   "execution_count": 3,
   "id": "14f61638-4f0e-4bf7-8162-9f157f1f836e",
   "metadata": {},
   "outputs": [
    {
     "data": {
      "text/plain": [
       "(1, int)"
      ]
     },
     "execution_count": 3,
     "metadata": {},
     "output_type": "execute_result"
    }
   ],
   "source": [
    "1, type(1)"
   ]
  },
  {
   "cell_type": "code",
   "execution_count": 36,
   "id": "5f92515b-dbbc-4ad8-9159-b158dd8dbc08",
   "metadata": {},
   "outputs": [
    {
     "data": {
      "text/plain": [
       "(2, int)"
      ]
     },
     "execution_count": 36,
     "metadata": {},
     "output_type": "execute_result"
    }
   ],
   "source": [
    "m = 2\n",
    "m, type(m)"
   ]
  },
  {
   "cell_type": "code",
   "execution_count": 16,
   "id": "f7f19993-f7d7-492f-be3f-56c2b9c4d172",
   "metadata": {},
   "outputs": [
    {
     "data": {
      "text/plain": [
       "(123, 234, -1234)"
      ]
     },
     "execution_count": 16,
     "metadata": {},
     "output_type": "execute_result"
    }
   ],
   "source": [
    "# use the int() constructor to create an integer from a float or a string\n",
    "int(123.45), int('234'), int('  -12_34\\n')"
   ]
  },
  {
   "cell_type": "code",
   "execution_count": 17,
   "id": "77c9dc03-71bf-4a9a-86d5-ed769415776a",
   "metadata": {},
   "outputs": [
    {
     "data": {
      "text/plain": [
       "255"
      ]
     },
     "execution_count": 17,
     "metadata": {},
     "output_type": "execute_result"
    }
   ],
   "source": [
    "int('FF', 16) # convert a base-16 integer string to a base-10 integer"
   ]
  },
  {
   "cell_type": "code",
   "execution_count": 18,
   "id": "6345abd4-16dd-4133-94de-b19b29cba2b7",
   "metadata": {},
   "outputs": [
    {
     "data": {
      "text/plain": [
       "115"
      ]
     },
     "execution_count": 18,
     "metadata": {},
     "output_type": "execute_result"
    }
   ],
   "source": [
    "int('01110011', 2) # convert a base-2 integer string to a base-10 integer"
   ]
  },
  {
   "cell_type": "code",
   "execution_count": 85,
   "id": "57fffc46-ab45-487a-b18e-b2bb58f41b44",
   "metadata": {},
   "outputs": [
    {
     "name": "stderr",
     "output_type": "stream",
     "text": [
      ".\n",
      "----------------------------------------------------------------------\n",
      "Ran 1 test in 0.001s\n",
      "\n",
      "OK\n"
     ]
    },
    {
     "data": {
      "text/plain": [
       "<unittest.main.TestProgram at 0x14fb22bf0>"
      ]
     },
     "execution_count": 85,
     "metadata": {},
     "output_type": "execute_result"
    }
   ],
   "source": [
    "import unittest\n",
    "\n",
    "class TestC(unittest.TestCase):\n",
    "    def test_int(self):\n",
    "        self.assertEqual(int(12.3),12)\n",
    "        self.assertEqual(int(\"12\"),12)\n",
    "        with self.assertRaises(ValueError):\n",
    "            int(\"12.3\")\n",
    "\n",
    "unittest.main(argv=[''], exit=False)\n"
   ]
  },
  {
   "cell_type": "code",
   "execution_count": 101,
   "id": "e919ecbc-cb8b-40d4-8605-b6ab72029e39",
   "metadata": {},
   "outputs": [
    {
     "name": "stdout",
     "output_type": "stream",
     "text": [
      "\n",
      "\u001b[33m\u001b[33mno tests ran\u001b[0m\u001b[33m in 0.01s\u001b[0m\u001b[0m\n"
     ]
    },
    {
     "data": {
      "text/plain": [
       "<ExitCode.NO_TESTS_COLLECTED: 5>"
      ]
     },
     "execution_count": 101,
     "metadata": {},
     "output_type": "execute_result"
    }
   ],
   "source": [
    "# pytest 在 notebook 里面配置不好， not work.\n",
    "import pytest\n",
    "\n",
    "def test_int():\n",
    "    assert int(12.3) == 12\n",
    "    assert int(\"12\") == 12\n",
    "    with pytest.raises(ValueError):\n",
    "        int(\"12.3\")\n",
    "\n",
    "pytest.main(['-q', '--disable-warnings', '--override-ini', 'addopts='], plugins=[pytest.PytestPluginManager()])"
   ]
  },
  {
   "cell_type": "markdown",
   "id": "6caabff6-c88a-4fb3-8571-9bb7dbb912ec",
   "metadata": {},
   "source": [
    "### Numbers - float"
   ]
  },
  {
   "cell_type": "code",
   "execution_count": 22,
   "id": "6fc732c9-6c40-41be-92c0-73ef4a2c7165",
   "metadata": {},
   "outputs": [
    {
     "data": {
      "text/plain": [
       "(1.23, -1.23, 0.001, 20000.0, -inf, inf, float)"
      ]
     },
     "execution_count": 22,
     "metadata": {},
     "output_type": "execute_result"
    }
   ],
   "source": [
    "float('+1.23'), float('-1.23'), float('1e-3'), float('+2e4'), float('-Infinity'), float('Inf'), type(4.65)"
   ]
  },
  {
   "cell_type": "code",
   "execution_count": 33,
   "id": "4e0d1607-11f9-4e38-b182-169033982292",
   "metadata": {},
   "outputs": [
    {
     "data": {
      "text/plain": [
       "sys.float_info(max=1.7976931348623157e+308, max_exp=1024, max_10_exp=308, min=2.2250738585072014e-308, min_exp=-1021, min_10_exp=-307, dig=15, mant_dig=53, epsilon=2.220446049250313e-16, radix=2, rounds=1)"
      ]
     },
     "execution_count": 33,
     "metadata": {},
     "output_type": "execute_result"
    }
   ],
   "source": [
    "import sys\n",
    "\n",
    "sys.float_info"
   ]
  },
  {
   "cell_type": "markdown",
   "id": "51e42c8c-3563-43a7-ad5e-cab8e349d635",
   "metadata": {},
   "source": [
    "### Numbers - decimal"
   ]
  },
  {
   "cell_type": "code",
   "execution_count": 23,
   "id": "e5d102d1-9b55-41c0-b7bc-fa34ccc40962",
   "metadata": {},
   "outputs": [
    {
     "data": {
      "text/plain": [
       "Context(prec=28, rounding=ROUND_HALF_EVEN, Emin=-999999, Emax=999999, capitals=1, clamp=0, flags=[], traps=[InvalidOperation, DivisionByZero, Overflow])"
      ]
     },
     "execution_count": 23,
     "metadata": {},
     "output_type": "execute_result"
    }
   ],
   "source": [
    "from decimal import Decimal, getcontext\n",
    "\n",
    "getcontext()"
   ]
  },
  {
   "cell_type": "code",
   "execution_count": 25,
   "id": "d8d4bef1-a235-435c-8b19-fdf4c45af466",
   "metadata": {},
   "outputs": [
    {
     "data": {
      "text/plain": [
       "Context(prec=5, rounding=ROUND_HALF_EVEN, Emin=-999999, Emax=999999, capitals=1, clamp=0, flags=[], traps=[InvalidOperation, DivisionByZero, Overflow])"
      ]
     },
     "execution_count": 25,
     "metadata": {},
     "output_type": "execute_result"
    }
   ],
   "source": [
    "getcontext().prec = 5  # set a new precision\n",
    "\n",
    "getcontext()"
   ]
  },
  {
   "cell_type": "code",
   "execution_count": 26,
   "id": "13315df9-cf38-400c-9ff8-7806a4751cb6",
   "metadata": {},
   "outputs": [
    {
     "data": {
      "text/plain": [
       "(Decimal('9'),\n",
       " Decimal('3.14'),\n",
       " Decimal('3.140000000000000124344978758017532527446746826171875'))"
      ]
     },
     "execution_count": 26,
     "metadata": {},
     "output_type": "execute_result"
    }
   ],
   "source": [
    "Decimal(9), Decimal('3.14'), Decimal(3.14)"
   ]
  },
  {
   "cell_type": "code",
   "execution_count": 28,
   "id": "c6b1399c-e707-43ae-9d0f-e8674a5a037f",
   "metadata": {},
   "outputs": [
    {
     "data": {
      "text/plain": [
       "(Decimal('3.3'), Decimal('3.3000'))"
      ]
     },
     "execution_count": 28,
     "metadata": {},
     "output_type": "execute_result"
    }
   ],
   "source": [
    "Decimal('1.1') + Decimal('2.2'),    Decimal(1.1) + Decimal(2.2)"
   ]
  },
  {
   "cell_type": "markdown",
   "id": "d54a3faf-7818-403e-877b-1e0fa31f23fe",
   "metadata": {},
   "source": [
    "### Numbers - fraction"
   ]
  },
  {
   "cell_type": "code",
   "execution_count": 32,
   "id": "7afd4c1f-d09d-4945-b8b0-7a9a986e5938",
   "metadata": {},
   "outputs": [
    {
     "data": {
      "text/plain": [
       "(Fraction(3, 7),\n",
       " Fraction(3602879701896397, 36028797018963968),\n",
       " Fraction(1, 10),\n",
       " Fraction(1, 10))"
      ]
     },
     "execution_count": 32,
     "metadata": {},
     "output_type": "execute_result"
    }
   ],
   "source": [
    "from fractions import Fraction\n",
    "\n",
    "Fraction('3/7'), Fraction(0.1), Fraction('1/10'), Fraction('0.1')"
   ]
  },
  {
   "cell_type": "markdown",
   "id": "5d65aeaf-dc82-429c-a8bb-ac47d2de3377",
   "metadata": {},
   "source": [
    "### Numbers - complex numbers"
   ]
  },
  {
   "cell_type": "code",
   "execution_count": 38,
   "id": "8f8ae3ef-6a8d-49bc-a5a5-d25e77b8bfce",
   "metadata": {},
   "outputs": [
    {
     "data": {
      "text/plain": [
       "((4+5j), complex, (4+6j), (5+6j))"
      ]
     },
     "execution_count": 38,
     "metadata": {},
     "output_type": "execute_result"
    }
   ],
   "source": [
    "4+5j, type(4+5j), complex('4+6j'), complex(5, 6)"
   ]
  },
  {
   "cell_type": "markdown",
   "id": "e3e35061-bef8-475e-a493-49e83a4feb2b",
   "metadata": {},
   "source": [
    "## Text"
   ]
  },
  {
   "cell_type": "markdown",
   "id": "e1eeabf0",
   "metadata": {},
   "source": [
    "### Python Strings\n",
    "\n",
    "https://docs.python.org/3.12/library/text.html#textservices\n",
    "\n",
    "In Python, strings cannot be changed, they are immutable.\n",
    "There is also no mutable string type\n",
    "python 中 字符串类型 都是不可变的。"
   ]
  },
  {
   "cell_type": "markdown",
   "id": "edfae877-9133-4076-8c6d-d504c1b2a57b",
   "metadata": {},
   "source": [
    "#### `class str`"
   ]
  },
  {
   "cell_type": "code",
   "execution_count": 40,
   "id": "eb4dfa82-1c01-41a1-818c-6c9e3503e908",
   "metadata": {},
   "outputs": [
    {
     "data": {
      "text/plain": [
       "'ab'"
      ]
     },
     "execution_count": 40,
     "metadata": {},
     "output_type": "execute_result"
    }
   ],
   "source": [
    "'ab' # single quotes"
   ]
  },
  {
   "cell_type": "code",
   "execution_count": null,
   "id": "72cc25bc-eede-4a55-87f5-e9d34f49f779",
   "metadata": {},
   "outputs": [
    {
     "data": {
      "text/plain": [
       "'abc'"
      ]
     },
     "execution_count": 39,
     "metadata": {},
     "output_type": "execute_result"
    }
   ],
   "source": [
    "\"abc\" # double quotes"
   ]
  },
  {
   "cell_type": "code",
   "execution_count": 42,
   "id": "f75d2380-128c-4007-ba2e-f6c3c9c5cc8d",
   "metadata": {},
   "outputs": [
    {
     "data": {
      "text/plain": [
       "('defg', str)"
      ]
     },
     "execution_count": 42,
     "metadata": {},
     "output_type": "execute_result"
    }
   ],
   "source": [
    "s1 = 'defg'\n",
    "s1, type(s1)"
   ]
  },
  {
   "cell_type": "code",
   "execution_count": 54,
   "id": "1ad7d4a0-e122-4cec-8637-d9502a4d5967",
   "metadata": {},
   "outputs": [
    {
     "data": {
      "text/plain": [
       "'\\nline1\\nline2\\nline3\\n'"
      ]
     },
     "execution_count": 54,
     "metadata": {},
     "output_type": "execute_result"
    }
   ],
   "source": [
    "# triple-quotes\n",
    "ss3=\"\"\"\n",
    "line1\n",
    "line2\n",
    "line3\n",
    "\"\"\"\n",
    "ss3"
   ]
  },
  {
   "cell_type": "code",
   "execution_count": 56,
   "id": "a8758fd0-eb1d-4004-8b18-260755d1c55b",
   "metadata": {},
   "outputs": [
    {
     "name": "stdout",
     "output_type": "stream",
     "text": [
      "\n",
      "line1\n",
      "line2\n",
      "line3\n",
      "\n"
     ]
    }
   ],
   "source": [
    "print(ss3)"
   ]
  },
  {
   "cell_type": "code",
   "execution_count": 202,
   "id": "494828cd-4630-47f1-b803-8671bffe0ac3",
   "metadata": {},
   "outputs": [
    {
     "data": {
      "text/plain": [
       "'line4\\nline5\\nline6'"
      ]
     },
     "execution_count": 202,
     "metadata": {},
     "output_type": "execute_result"
    }
   ],
   "source": [
    "# or another triple-quotes\n",
    "# adding a `\\` at the end of the line to exclude the initial newline\n",
    "ss4='''\\\n",
    "line4\n",
    "line5\n",
    "line6'''\n",
    "ss4"
   ]
  },
  {
   "cell_type": "code",
   "execution_count": 62,
   "id": "dda53f8f-6f7b-48c9-8729-8064ba61c19a",
   "metadata": {},
   "outputs": [
    {
     "name": "stdout",
     "output_type": "stream",
     "text": [
      "line4\n",
      "line5\n",
      "line6\n",
      "\n"
     ]
    }
   ],
   "source": [
    "print(ss4)"
   ]
  },
  {
   "cell_type": "code",
   "execution_count": 66,
   "id": "d3c1af19-fa96-4515-bd74-73db71154a71",
   "metadata": {},
   "outputs": [
    {
     "data": {
      "text/plain": [
       "'Put several strings within parentheses to have them joined together. You can add more and more sentences together.'"
      ]
     },
     "execution_count": 66,
     "metadata": {},
     "output_type": "execute_result"
    }
   ],
   "source": [
    "# long sentence\n",
    "lls = ('Put several strings within parentheses '\n",
    "       'to have them joined together. You can '\n",
    "       'add more and more sentences together.')\n",
    "lls"
   ]
  },
  {
   "cell_type": "markdown",
   "id": "585fae92-ba7f-4205-94a7-ff10221f5e0d",
   "metadata": {},
   "source": [
    "### String - Fromat\n",
    "\n",
    "https://docs.python.org/3.12/library/string.html#formatstrings\n",
    "\n",
    "https://docs.python.org/3.12/library/string.html#format-specification-mini-language\n",
    "\n",
    "\n",
    "`Lib/string.py`\n",
    "\n",
    "Python 中格式化字符串有三种方式：\n",
    "1. `%` operator 方式                  - 过时的旧方法，仅在 Python 2 兼容代码中使用\n",
    "\n",
    "2. `str.format(*args, **kwargs)`     - 更灵活，但比 f-string 语法冗长。\n",
    "\n",
    "3. f-string                          - 执行最快、语法最简洁、可读性最高，适用于 Python 3.6+\n",
    "\n"
   ]
  },
  {
   "cell_type": "code",
   "execution_count": 193,
   "id": "c6d7c2e9-94d6-46fe-ae51-b4a1822e0955",
   "metadata": {},
   "outputs": [
    {
     "name": "stdout",
     "output_type": "stream",
     "text": [
      "% operator    : 0.11280\n",
      "str.format()  : 0.09089\n",
      "f-string      : 0.06325\n"
     ]
    }
   ],
   "source": [
    "import timeit\n",
    "\n",
    "name = \"Alice\"\n",
    "age = 25\n",
    "\n",
    "# % operator\n",
    "stmt1 = \"\"\"\n",
    "\"%s is %d years old.\" % (name, age) \n",
    "\"\"\"\n",
    "time1 = timeit.timeit(stmt=stmt1, globals=locals())\n",
    "\n",
    "\n",
    "# str.forma()\n",
    "stmt2 = \"\"\"\n",
    "\"{} is {} years old.\".format(name, age)\n",
    "\"\"\"\n",
    "time2 = timeit.timeit(stmt=stmt2, globals=locals())\n",
    "\n",
    "\n",
    "exampleservices = {'OnlineTesting': 'Programming', 'ProgrammingLanguages': 'Python'}\n",
    "'Services: {OnlineTesting}, {ProgrammingLanguages}'.format(**exampleservices)\n",
    "\n",
    "\n",
    "# f-string\n",
    "stmt3 = \"\"\"\n",
    "f'{name} is {age} years old.'\n",
    "\"\"\"\n",
    "time3 = timeit.timeit(stmt=stmt3, globals=globals())\n",
    "\n",
    "\n",
    "print(f'% operator    : {time1:.5f}')\n",
    "print(f'str.format()  : {time2:.5f}')\n",
    "print(f'f-string      : {time3:.5f}')"
   ]
  },
  {
   "cell_type": "markdown",
   "id": "00674baa-1f1c-4e8f-bbce-e37975ea1e0a",
   "metadata": {},
   "source": [
    "#### f(F)-string\n",
    "\n",
    "https://docs.python.org/3.12/reference/lexical_analysis.html#f-strings"
   ]
  },
  {
   "cell_type": "code",
   "execution_count": 46,
   "id": "6a2cee52-e14a-40dc-94ba-1200771cca34",
   "metadata": {},
   "outputs": [
    {
     "name": "stdout",
     "output_type": "stream",
     "text": [
      "2025-02-18 13:17:55.265075\n",
      "2025-02-18 13:17:55.265075\n",
      "\n",
      "2025-02-18 13:17:55.265075\n",
      "datetime.datetime(2025, 2, 18, 13, 17, 55, 265075)\n",
      "datetime.datetime(2025, 2, 18, 13, 17, 55, 265075)\n",
      "\n",
      "2025-02-18 13:17:55\n"
     ]
    }
   ],
   "source": [
    "import datetime\n",
    "\n",
    "d = datetime.datetime.now()\n",
    "print(d)\n",
    "print(f'{d}')\n",
    "print()\n",
    "\n",
    "# `!` conversion\n",
    "# `!s` 调用 `str(d)`\n",
    "print(f'{d!s}')\n",
    "# `!r` 调用 `repr(d)`\n",
    "print(f'{d!r}')\n",
    "# `!a` 调用 `ascii(d)`\n",
    "print(f'{d!a}')\n",
    "print()\n",
    "\n",
    "print(f'{d:%Y-%m-%d %H:%M:%S}')"
   ]
  },
  {
   "cell_type": "code",
   "execution_count": 22,
   "id": "5cd88313-61c8-4f3e-8344-8c3741c8b597",
   "metadata": {},
   "outputs": [
    {
     "name": "stdout",
     "output_type": "stream",
     "text": [
      "Test String                   \n",
      "         Test String          \n",
      "*********Test String**********\n",
      "                   Test String\n"
     ]
    }
   ],
   "source": [
    "s = \"Test String\"\n",
    "# `:` 分割\n",
    "# `<`, `>`, `^` 左对齐 右对齐 居中对齐\n",
    "# `30`  30个字符的宽度\n",
    "print(f'{s:<30}')  # left aligned\n",
    "print(f'{s:^30}')  # centered\n",
    "# `*` 用 `*` 作为填充字符\n",
    "print(f'{s:*^30}') # centered with '*' as a fill char\n",
    "print(f'{s:>30}')  # right aligned\n"
   ]
  },
  {
   "cell_type": "code",
   "execution_count": 94,
   "id": "9065bf18-a2f3-493f-9e20-beb90c914ea1",
   "metadata": {},
   "outputs": [
    {
     "name": "stdout",
     "output_type": "stream",
     "text": [
      "int: d=42, hex: 2a, HEX: 2A, oct: 52, bin: 101010, char: *\n",
      "int: d=42, hex: d=0x2a, HEX: d=0X2A, oct: d=0o52, bin: d=0b101010\n",
      "d1=1,234,566\n",
      "19/22=86.36%\n",
      "1.0e+05, 1.00E+05, 100000.000000, 100000\n"
     ]
    }
   ],
   "source": [
    "d = 42\n",
    "\n",
    "# 把数字， 用整数，十六进制，大写字母的十六进制， 八进制，二进制显示, 显示成字符\n",
    "print(f'int: {d=:d}, hex: {d:x}, HEX: {d:X}, oct: {d:o}, bin: {d:b}, char: {d:c}')\n",
    "# `#` 基于数字的进制，添加合适的前缀\n",
    "print(f'int: {d=:#d}, hex: {d=:#x}, HEX: {d=:#X}, oct: {d=:#o}, bin: {d=:#b}')\n",
    "\n",
    "d1 = 1234566\n",
    "# `,` 用 逗号 作为千分位 分隔符\n",
    "print(f'{d1=:,}')  # using the comma as a thousands separator\n",
    "\n",
    "# `.2` 两位小数\n",
    "# `%` 用百分位格式显示\n",
    "print(f'{19/22=:.2%}')\n",
    "\n",
    "d3 = 100000\n",
    "# `e`, `E` 科学记数法 Scientific notaton\n",
    "print(f'{d3:1.1e}, {d3:1.2E}, {d3:f}, {d3:n}')"
   ]
  },
  {
   "cell_type": "markdown",
   "id": "9ff744cc",
   "metadata": {},
   "source": [
    "### String - Escape"
   ]
  },
  {
   "cell_type": "code",
   "execution_count": 43,
   "id": "12b9b012-02dc-4a42-9502-ad2b6ebbc45c",
   "metadata": {},
   "outputs": [
    {
     "data": {
      "text/plain": [
       "\"doesn't\""
      ]
     },
     "execution_count": 43,
     "metadata": {},
     "output_type": "execute_result"
    }
   ],
   "source": [
    "'doesn\\'t'  # use \\' to escape the single quote"
   ]
  },
  {
   "cell_type": "code",
   "execution_count": 44,
   "id": "805d0658-e772-4371-bcdc-7231b2930a9a",
   "metadata": {},
   "outputs": [
    {
     "data": {
      "text/plain": [
       "\"doesn't\""
      ]
     },
     "execution_count": 44,
     "metadata": {},
     "output_type": "execute_result"
    }
   ],
   "source": [
    "\"doesn't\"  # ... or use double quotes instead"
   ]
  },
  {
   "cell_type": "code",
   "execution_count": 47,
   "id": "da6a9087-6fdb-44ab-98ab-7b57e9725ef1",
   "metadata": {},
   "outputs": [
    {
     "data": {
      "text/plain": [
       "'First line.\\nSecond line.'"
      ]
     },
     "execution_count": 47,
     "metadata": {},
     "output_type": "execute_result"
    }
   ],
   "source": [
    "s = 'First line.\\nSecond line.'  # \\n means newline\n",
    "s"
   ]
  },
  {
   "cell_type": "code",
   "execution_count": 48,
   "id": "70803719-06dd-4e87-aacd-03b0434bcf77",
   "metadata": {},
   "outputs": [
    {
     "name": "stdout",
     "output_type": "stream",
     "text": [
      "First line.\n",
      "Second line.\n"
     ]
    }
   ],
   "source": [
    "print(s)  # with print(), special characters are interpreted, so \\n produces new line"
   ]
  },
  {
   "cell_type": "code",
   "execution_count": 51,
   "id": "04609a88-4193-4d65-a41b-4d18ab97e528",
   "metadata": {},
   "outputs": [
    {
     "name": "stdout",
     "output_type": "stream",
     "text": [
      "c:\\some\n",
      "ame\n"
     ]
    },
    {
     "name": "stderr",
     "output_type": "stream",
     "text": [
      "<>:1: SyntaxWarning: invalid escape sequence '\\s'\n",
      "<>:1: SyntaxWarning: invalid escape sequence '\\s'\n",
      "/var/folders/00/4pjxjnf94d9fv9nfrgpnbww40000gn/T/ipykernel_34375/1311719400.py:1: SyntaxWarning: invalid escape sequence '\\s'\n",
      "  print('c:\\some\\name')\n"
     ]
    }
   ],
   "source": [
    "print('c:\\some\\name')"
   ]
  },
  {
   "cell_type": "code",
   "execution_count": 52,
   "id": "d2ffa502-34dd-4d98-adac-8173479cbad9",
   "metadata": {},
   "outputs": [
    {
     "name": "stdout",
     "output_type": "stream",
     "text": [
      "c:\\some\\name\n"
     ]
    }
   ],
   "source": [
    "# raw string by adding `r` before the first quote\n",
    "print(r'c:\\some\\name')"
   ]
  },
  {
   "cell_type": "markdown",
   "id": "3dcf4371",
   "metadata": {},
   "source": [
    "### String - Concatenation"
   ]
  },
  {
   "cell_type": "code",
   "execution_count": 64,
   "id": "d846fe7c-2307-4615-83eb-de4ecaf2bbf8",
   "metadata": {},
   "outputs": [
    {
     "data": {
      "text/plain": [
       "'gooooooooogle'"
      ]
     },
     "execution_count": 64,
     "metadata": {},
     "output_type": "execute_result"
    }
   ],
   "source": [
    "# 'g' followed by 9 times 'o', followed by 'gle'\n",
    "'g' + 'o' * 9 + 'gle'"
   ]
  },
  {
   "cell_type": "code",
   "execution_count": 200,
   "id": "8d4c4bcb-2556-45d1-8dcd-1f10ef26a359",
   "metadata": {},
   "outputs": [
    {
     "data": {
      "text/plain": [
       "'Put several strings within parentheses to have them joined together. You can add more and more sentences together.'"
      ]
     },
     "execution_count": 200,
     "metadata": {},
     "output_type": "execute_result"
    }
   ],
   "source": [
    "# long sentence\n",
    "lls = ('Put several strings within parentheses '\n",
    "       'to have them joined together. You can '\n",
    "       'add more and more sentences together.')\n",
    "lls"
   ]
  },
  {
   "cell_type": "markdown",
   "id": "04e219b9-973f-4c03-a4e5-d952dec40067",
   "metadata": {},
   "source": [
    "### String - indexing"
   ]
  },
  {
   "cell_type": "code",
   "execution_count": 80,
   "id": "a0af7049-7f27-4a24-80d8-c5481d0f177b",
   "metadata": {},
   "outputs": [
    {
     "data": {
      "text/plain": [
       "('Python', 6, str, 'P', 'y')"
      ]
     },
     "execution_count": 80,
     "metadata": {},
     "output_type": "execute_result"
    }
   ],
   "source": [
    "word = 'Python'\n",
    "\n",
    "word, len(word), type(word), min(word), max(word)"
   ]
  },
  {
   "cell_type": "code",
   "execution_count": null,
   "id": "7247e634-30d6-4be1-8100-b6018b8f4a73",
   "metadata": {},
   "outputs": [
    {
     "data": {
      "text/plain": [
       "('P', 'o')"
      ]
     },
     "execution_count": 67,
     "metadata": {},
     "output_type": "execute_result"
    }
   ],
   "source": [
    "# character in position 0, 4\n",
    "word[0], word[4]"
   ]
  },
  {
   "cell_type": "code",
   "execution_count": 69,
   "id": "640076b6-a751-4a38-b46c-fc3b3ca0584c",
   "metadata": {},
   "outputs": [
    {
     "data": {
      "text/plain": [
       "('n', 'o')"
      ]
     },
     "execution_count": 69,
     "metadata": {},
     "output_type": "execute_result"
    }
   ],
   "source": [
    "# last character, second-last character\n",
    "word[-1], word[-2]"
   ]
  },
  {
   "cell_type": "code",
   "execution_count": 76,
   "id": "dfb88600-6261-41e3-8a3f-873be385c7de",
   "metadata": {},
   "outputs": [
    {
     "ename": "IndexError",
     "evalue": "string index out of range",
     "output_type": "error",
     "traceback": [
      "\u001b[0;31m---------------------------------------------------------------------------\u001b[0m",
      "\u001b[0;31mIndexError\u001b[0m                                Traceback (most recent call last)",
      "Cell \u001b[0;32mIn[76], line 2\u001b[0m\n\u001b[1;32m      1\u001b[0m \u001b[38;5;66;03m# IndexError: string index out of range\u001b[39;00m\n\u001b[0;32m----> 2\u001b[0m \u001b[43mword\u001b[49m\u001b[43m[\u001b[49m\u001b[38;5;241;43m77\u001b[39;49m\u001b[43m]\u001b[49m\n",
      "\u001b[0;31mIndexError\u001b[0m: string index out of range"
     ]
    }
   ],
   "source": [
    "# IndexError: string index out of range\n",
    "word[77]"
   ]
  },
  {
   "cell_type": "markdown",
   "id": "9763c5e4-63d1-4a27-a959-a61bccb9e677",
   "metadata": {},
   "source": [
    "### String - slicing"
   ]
  },
  {
   "cell_type": "code",
   "execution_count": 70,
   "id": "80c2753f-7fb8-4176-bc2d-e6b305a6e036",
   "metadata": {},
   "outputs": [
    {
     "data": {
      "text/plain": [
       "'Py'"
      ]
     },
     "execution_count": 70,
     "metadata": {},
     "output_type": "execute_result"
    }
   ],
   "source": [
    "# characters from position 0 (included) to 2(excluded)\n",
    "word[0:2]"
   ]
  },
  {
   "cell_type": "code",
   "execution_count": 71,
   "id": "f0792346-9fbe-4c72-b2d3-436db333ef25",
   "metadata": {},
   "outputs": [
    {
     "data": {
      "text/plain": [
       "'Py'"
      ]
     },
     "execution_count": 71,
     "metadata": {},
     "output_type": "execute_result"
    }
   ],
   "source": [
    "# characters from beginning to position 2(excluded)\n",
    "word[:2]"
   ]
  },
  {
   "cell_type": "code",
   "execution_count": 72,
   "id": "eceb939a-da30-4120-b51b-f62695005882",
   "metadata": {},
   "outputs": [],
   "source": [
    "# characters from position 2(included) to the end"
   ]
  },
  {
   "cell_type": "code",
   "execution_count": 73,
   "id": "6c53adc2-76d2-48dd-8ee2-e7e98defa7a3",
   "metadata": {},
   "outputs": [
    {
     "data": {
      "text/plain": [
       "'thon'"
      ]
     },
     "execution_count": 73,
     "metadata": {},
     "output_type": "execute_result"
    }
   ],
   "source": [
    "word[2:]"
   ]
  },
  {
   "cell_type": "code",
   "execution_count": 74,
   "id": "f3891d0f-460f-4975-a2f3-2bcaf0a4a39b",
   "metadata": {},
   "outputs": [
    {
     "data": {
      "text/plain": [
       "('Python', 'Python')"
      ]
     },
     "execution_count": 74,
     "metadata": {},
     "output_type": "execute_result"
    }
   ],
   "source": [
    "word, word[:3] + word[3:]"
   ]
  },
  {
   "cell_type": "markdown",
   "id": "6e6c8021-5ba8-47f7-a0ee-ed8fa3e21c27",
   "metadata": {},
   "source": [
    "### String - other methods\n",
    "\n",
    "https://docs.python.org/3.12/library/stdtypes.html#string-methods\n",
    "\n",
    "```\n",
    "`str.isalnum()`\n",
    "`str.isalpha()`\n",
    "`str.isascii()`\n",
    "`str.isdecimal()`\n",
    "`str.isdigit()`\n",
    "`str.isnumeric()`\n",
    "\n",
    "`str.isidentifier()`\n",
    "\n",
    "`str.isprintable()`\n",
    "`str.isspace()`\n",
    "\n",
    "`str.istitle()`\n",
    "`str.islower()`\n",
    "`str.isupper()`\n",
    "\n",
    "`str.capitalize()` -> a copy of string\n",
    "`str.casefold()` -> a copy of string\n",
    "`str.lower()`\n",
    "`str.swapcase()`\n",
    "`str.title()`\n",
    "`str.upper()`\n",
    "\n",
    "`str.format(*args, **kwargs)` -> a copy of string\n",
    "`str.format_map(mapping)`\n",
    "\n",
    "`str.join(iterable)`\n",
    "\n",
    "`str.ljust(width[, fillchar])`\n",
    "`str.rjust(width[, fillchar])`\n",
    "`str.zfill(width)`\n",
    "`str.center(width[, fillchar])` -> a copy of string\n",
    "`str.expandtabs(tabsize=8)` -> a copy of string\n",
    "\n",
    "`str.lstrip([chars])`\n",
    "`str.rstrip([chars])`\n",
    "`str.strip([chars])`\n",
    "\n",
    "`str.removeprefix(prefix, /)`\n",
    "`str.removesuffix(suffix, /)`\n",
    "\n",
    "`str.partition(sep)`\n",
    "`str.rpartition(sep)`\n",
    "\n",
    "`str.split(sep=None, maxsplit=-1)`\n",
    "`str.rsplit(sep=None, maxsplit=-1)`\n",
    "`str.splitlines(keepends=False)`\n",
    "\n",
    "`static str.maketrans(x[, y[, z]])`\n",
    "`str.replace(old, new[, count])`\n",
    "`str.translate(table)`\n",
    "\n",
    "`str.encode(encoding='utf-8', errors='strict')` -> `bytes`\n",
    "\n",
    "`str.count(sub[, start[, end]])`\n",
    "`str.find(sub[, start[, end]])`\n",
    "`str.rfind(sub[, start[, end]])`\n",
    "`str.index(sub[, start[, end]])`\n",
    "`str.rindex(sub[, start[, end]])`\n",
    "\n",
    "`str.startswith(prefix[, start[, end]])`\n",
    "`str.endswith(suffix[, start[, end]])` -> bool\n",
    "```"
   ]
  },
  {
   "cell_type": "code",
   "execution_count": null,
   "id": "a3110e09-6d39-4756-871d-bf713595dc3a",
   "metadata": {},
   "outputs": [],
   "source": []
  },
  {
   "cell_type": "markdown",
   "id": "e6d62b7c-b871-4907-ba7e-abe88535c78e",
   "metadata": {},
   "source": [
    "### String - `re`\n",
    "\n",
    "https://docs.python.org/3.12/library/re.html#module-re\n",
    "\n",
    "\n",
    "| method | comment |\n",
    "| ---- | ---- |\n",
    "| `re.match(pattern, string, flags=0)` | 只在字符串的开头位置检测匹配 |\n",
    "| `re.search(pattern, string, flags=0)`| 在字符串中的任何位置检测匹配 |\n",
    "| `re.fullmatch(pattern, string, flags=0)` | 检测整个字符串是否匹配  |\n",
    "| `re.findall(pattern, string, flags=0)` | 返回 pattern 在 string 中的所有非重叠匹配，以字符串列表或字符串元组列表的形式。 |\n",
    "| `re.finditer(pattern, string, flags=0)`| 针对正则表达式 pattern 在 string 里的所有非重叠匹配返回一个产生 Match 对象的 iterator |\n",
    "| | |\n",
    "| | |\n"
   ]
  },
  {
   "cell_type": "code",
   "execution_count": 120,
   "id": "d5876f88-1c2e-43b8-9a9f-4679f3156a69",
   "metadata": {},
   "outputs": [],
   "source": [
    "import re"
   ]
  },
  {
   "cell_type": "code",
   "execution_count": 126,
   "id": "74591481-300e-42c8-9b9b-1c5bb9830ab9",
   "metadata": {},
   "outputs": [
    {
     "name": "stdout",
     "output_type": "stream",
     "text": [
      "<re.Match object; span=(0, 5), match='82472'>\n"
     ]
    }
   ],
   "source": [
    "pat = re.compile('[0-9]{5}')\n",
    "print(pat.match('82472349234720'))"
   ]
  },
  {
   "cell_type": "code",
   "execution_count": null,
   "id": "43b23ac3-30a8-42f6-bf7b-2b7af0cfdc18",
   "metadata": {},
   "outputs": [],
   "source": [
    "# Define a python regular expression that will match exactly one backslash `\\`\n",
    "\n",
    "s = r\"C:\\ws\\demos\"\n",
    "pat1 = r'\\\\'\n",
    "pat2 = '\\\\\\\\'"
   ]
  },
  {
   "cell_type": "code",
   "execution_count": 84,
   "id": "70390510-e525-4ccb-886d-d8f288a31779",
   "metadata": {},
   "outputs": [
    {
     "name": "stdout",
     "output_type": "stream",
     "text": [
      "\\\n",
      "\\\n",
      "\n",
      "\\\n",
      "\\\n"
     ]
    }
   ],
   "source": [
    "matches = re.findall(pat1, s)\n",
    "for match in matches:\n",
    "    print(match)\n",
    "\n",
    "print()\n",
    "\n",
    "matches = re.findall(pat2, s)\n",
    "for match in matches:\n",
    "    print(match)"
   ]
  },
  {
   "cell_type": "code",
   "execution_count": 122,
   "id": "4200fea0-4758-40ec-9abf-25e04abceaec",
   "metadata": {},
   "outputs": [
    {
     "name": "stdout",
     "output_type": "stream",
     "text": [
      "match.string='C:\\\\ws\\\\demos', match.re=re.compile('\\\\\\\\')\n",
      "match.group()='\\\\', match.groups()=(), match.groupdict()={}\n",
      "match.span()=(2, 3), match.start()=2, match.end()=3\n",
      "match.pos=0, match.endpos=11, len(match.string)=11\n",
      "match.lastindex=None, match.lastgroup=None\n",
      "\n",
      "match.string='C:\\\\ws\\\\demos', match.re=re.compile('\\\\\\\\')\n",
      "match.group()='\\\\', match.groups()=(), match.groupdict()={}\n",
      "match.span()=(5, 6), match.start()=5, match.end()=6\n",
      "match.pos=0, match.endpos=11, len(match.string)=11\n",
      "match.lastindex=None, match.lastgroup=None\n",
      "\n"
     ]
    }
   ],
   "source": [
    "matches = re.finditer(pat1, s)\n",
    "for match in matches:\n",
    "    print(f'{match.string=}, {match.re=}')\n",
    "    print(f'{match.group()=}, {match.groups()=}, {match.groupdict()=}')\n",
    "    print(f'{match.span()=}, {match.start()=}, {match.end()=}')\n",
    "    print(f'{match.pos=}, {match.endpos=}, {len(match.string)=}')\n",
    "    print(f'{match.lastindex=}, {match.lastgroup=}')\n",
    "    print()"
   ]
  },
  {
   "cell_type": "code",
   "execution_count": 210,
   "id": "cf53f51d-3876-49bd-8a5f-ec7322188f2e",
   "metadata": {},
   "outputs": [
    {
     "name": "stdout",
     "output_type": "stream",
     "text": [
      "s='Oliver Twist by Charle Dickens', len(s)=30\n",
      "type- <class 're.Match'>, !r- <re.Match object; span=(0, 12), match='Oliver Twist'>, !s- <re.Match object; span=(0, 12), match='Oliver Twist'>\n",
      "\n",
      "x.string='Oliver Twist by Charle Dickens', x.re=re.compile('(?P<c>(?P<a>[A-Z][a-zA-Z]*)\\\\s*(?P<b>[A-Z][a-zA-Z]*))')\n",
      "x.group()='Oliver Twist', x.groups()=('Oliver Twist', 'Oliver', 'Twist'), x.groupdict()={'c': 'Oliver Twist', 'a': 'Oliver', 'b': 'Twist'}\n",
      "x.span()=(0, 12), x.start()=0, x.end()=12\n",
      "x.pos=0, x.endpos=30, len(x.string)=30\n",
      "x.lastindex=1, x.lastgroup='c'\n",
      "\n",
      "x.group('a')='Oliver', x.group('b')='Twist', x.group('c')='Oliver Twist'\n"
     ]
    }
   ],
   "source": [
    "“”“\n",
    "`(?P<c>...)` 分组名称 c\n",
    "    包含另外两个分组名称 a `(?P<a>...)` 和 b `(?P<b>...)`\n",
    "\n",
    "`(?P<a>[A-Z][a-zA-Z]*)` 分组名称 a , 匹配一个 Capitalized word\n",
    "    `[A-Z]`      匹配单个大写字母\n",
    "    `[a-zA-Z]*`  匹配0个或者任意个小写或者大写字母\n",
    "\n",
    "`\\s*` 匹配0个或者任意个 whitespace characters\n",
    "\n",
    "`(?P<b>[A-Z][a-zA-Z]*)` 分组名称 b , 匹配一个 Capitalized word\n",
    "“”“\n",
    "\n",
    "pat = re.compile(r'(?P<c>(?P<a>[A-Z][a-zA-Z]*)\\s*(?P<b>[A-Z][a-zA-Z]*))')\n",
    "s = \"Oliver Twist by Charle Dickens\"\n",
    "x = pat.match(s)\n",
    "\n",
    "print(f'{s=}, {len(s)=}')\n",
    "\n",
    "pwrite(x)\n",
    "print()\n",
    "print(f'{x.string=}, {x.re=}')\n",
    "print(f'{x.group()=}, {x.groups()=}, {x.groupdict()=}')\n",
    "print(f'{x.span()=}, {x.start()=}, {x.end()=}')\n",
    "print(f'{x.pos=}, {x.endpos=}, {len(x.string)=}')\n",
    "print(f'{x.lastindex=}, {x.lastgroup=}')\n",
    "print()\n",
    "# 获取分组 a, b, c 所匹配到的字符串\n",
    "print(f\"{x.group('a')=}, {x.group('b')=}, {x.group('c')=}\")"
   ]
  },
  {
   "cell_type": "code",
   "execution_count": 227,
   "id": "99ec39b0-7471-4c40-9bd6-638969b1baba",
   "metadata": {},
   "outputs": [
    {
     "name": "stdout",
     "output_type": "stream",
     "text": [
      "s='Oliver Twist by Charle Dickens', len(s)=30\n",
      "type- <class 're.Match'>, !r- <re.Match object; span=(0, 12), match='Oliver Twist'>, !s- <re.Match object; span=(0, 12), match='Oliver Twist'>\n",
      "\n",
      "x.string='Oliver Twist by Charle Dickens', x.re=re.compile('(?P<c>(?P<a>[A-Z][a-zA-Z]*)\\\\s*(?P<b>[A-Z][a-zA-Z]*))')\n",
      "x.group()='Oliver Twist', x.groups()=('Oliver Twist', 'Oliver', 'Twist'), x.groupdict()={'c': 'Oliver Twist', 'a': 'Oliver', 'b': 'Twist'}\n",
      "x.span()=(0, 12), x.start()=0, x.end()=12\n",
      "x.pos=0, x.endpos=30, len(x.string)=30\n",
      "x.lastindex=1, x.lastgroup='c'\n",
      "\n",
      "x.group('a')='Oliver', x.group('b')='Twist', x.group('c')='Oliver Twist'\n"
     ]
    }
   ],
   "source": [
    "#\n",
    "# 把复杂的正则表达式拆解， 然后再组合\n",
    "# \n",
    "pat_capitalized_word = re.compile(r'[A-Z][a-zA-Z]*')\n",
    "pat_white_spaces = re.compile(r'\\s*')\n",
    "\n",
    "pat_a = re.compile(rf'(?P<a>{pat_capitalized_word.pattern})')\n",
    "pat_b = re.compile(rf'(?P<b>{pat_capitalized_word.pattern})')\n",
    "\n",
    "pat = re.compile(rf'(?P<c>{pat_a.pattern}{pat_white_spaces.pattern}{pat_b.pattern})')\n",
    "\n",
    "s = \"Oliver Twist by Charle Dickens\"\n",
    "x = pat.match(s)\n",
    "\n",
    "print(f'{s=}, {len(s)=}')\n",
    "\n",
    "pwrite(x)\n",
    "print()\n",
    "print(f'{x.string=}, {x.re=}')\n",
    "print(f'{x.group()=}, {x.groups()=}, {x.groupdict()=}')\n",
    "print(f'{x.span()=}, {x.start()=}, {x.end()=}')\n",
    "print(f'{x.pos=}, {x.endpos=}, {len(x.string)=}')\n",
    "print(f'{x.lastindex=}, {x.lastgroup=}')\n",
    "print()\n",
    "# 获取分组 a, b, c 所匹配到的字符串\n",
    "print(f\"{x.group('a')=}, {x.group('b')=}, {x.group('c')=}\")"
   ]
  },
  {
   "cell_type": "code",
   "execution_count": 220,
   "id": "8c21fafa-44b6-415f-99a8-a87fc36761fb",
   "metadata": {},
   "outputs": [
    {
     "name": "stdout",
     "output_type": "stream",
     "text": [
      "<re.Match object; span=(0, 13), match='Oliver Oliver'>\n",
      "x.group()='Oliver Oliver', x.groups()=('Oliver Oliver', 'Oliver'), x.groupdict()={'c': 'Oliver Oliver', 'a': 'Oliver'}\n"
     ]
    }
   ],
   "source": [
    "pat = re.compile(r'(?P<c>(?P<a>[A-Z][a-zA-Z]*)\\s*(?P=a))')\n",
    "s = \"Oliver Oliver Twist by Charle Dickens\"\n",
    "x = pat.match(s)\n",
    "print(x)\n",
    "print(f'{x.group()=}, {x.groups()=}, {x.groupdict()=}')"
   ]
  },
  {
   "cell_type": "markdown",
   "id": "5242c380",
   "metadata": {},
   "source": [
    "## Statements"
   ]
  },
  {
   "cell_type": "markdown",
   "id": "59a27c71",
   "metadata": {},
   "source": [
    "### Expression statements"
   ]
  },
  {
   "cell_type": "markdown",
   "id": "96f56bb6",
   "metadata": {},
   "source": [
    "### Assignment statements"
   ]
  },
  {
   "cell_type": "markdown",
   "id": "49313b9d",
   "metadata": {},
   "source": [
    "### `assert`"
   ]
  },
  {
   "cell_type": "markdown",
   "id": "0f61cea0",
   "metadata": {},
   "source": [
    "### `pass`\n",
    "\n",
    "It is a null operation, when it is executed, nothing happens. It's usefull as a placeholder."
   ]
  },
  {
   "cell_type": "markdown",
   "id": "e3ee3659",
   "metadata": {},
   "source": [
    "### `del`"
   ]
  },
  {
   "cell_type": "markdown",
   "id": "cfbea948",
   "metadata": {},
   "source": [
    "### `return`"
   ]
  },
  {
   "cell_type": "markdown",
   "id": "d590200f",
   "metadata": {},
   "source": [
    "### `yield` and `yield from`\n",
    "\n",
    "Yield expressions and statements are only used when defining a generator function, and are only used in the body of the generator function.\n"
   ]
  },
  {
   "cell_type": "code",
   "execution_count": null,
   "id": "6def6054-a952-482c-ae93-234484991187",
   "metadata": {},
   "outputs": [],
   "source": []
  },
  {
   "cell_type": "markdown",
   "id": "0901e97e",
   "metadata": {},
   "source": [
    "### `raise`"
   ]
  },
  {
   "cell_type": "markdown",
   "id": "9a7fc306",
   "metadata": {},
   "source": [
    "### `break`"
   ]
  },
  {
   "cell_type": "markdown",
   "id": "e471cb4b",
   "metadata": {},
   "source": [
    "### `continue`"
   ]
  },
  {
   "cell_type": "markdown",
   "id": "c29564f2",
   "metadata": {},
   "source": [
    "### `import`\n",
    "\n",
    "用 `import` 语句只能把模块导入一次，如果想要重新导入，需要使用 `importlib.reload` 函数"
   ]
  },
  {
   "cell_type": "markdown",
   "id": "ebc71a91",
   "metadata": {},
   "source": [
    "### `type` statement"
   ]
  },
  {
   "cell_type": "markdown",
   "id": "041b50b0",
   "metadata": {},
   "source": [
    "### `global`"
   ]
  },
  {
   "cell_type": "markdown",
   "id": "9f7a9f14",
   "metadata": {},
   "source": [
    "### `nolocal`"
   ]
  },
  {
   "cell_type": "markdown",
   "id": "d3cb9d7a",
   "metadata": {},
   "source": [
    "### `if`"
   ]
  },
  {
   "cell_type": "markdown",
   "id": "5cafc280",
   "metadata": {},
   "source": [
    "### `for .. else`"
   ]
  },
  {
   "cell_type": "code",
   "execution_count": 12,
   "id": "dde88ce9-45eb-4af9-994b-32a4e32c9add",
   "metadata": {},
   "outputs": [
    {
     "name": "stdout",
     "output_type": "stream",
     "text": [
      "0\n",
      "1\n",
      "2\n",
      "else 4\n"
     ]
    }
   ],
   "source": [
    "# print 0, 1, 2\n",
    "for i in range(3):\n",
    "    print(i)\n",
    "else:\n",
    "    # and 4\n",
    "    print('else 4')"
   ]
  },
  {
   "cell_type": "code",
   "execution_count": 240,
   "id": "0aaa8c11-bfe3-402a-9c72-6f2ca572e959",
   "metadata": {},
   "outputs": [
    {
     "name": "stdout",
     "output_type": "stream",
     "text": [
      "0\n",
      "1\n",
      "2\n",
      "3\n",
      "\n",
      "0\n",
      "1\n",
      "4\n"
     ]
    }
   ],
   "source": [
    "for i in range(4):\n",
    "    print(i)\n",
    "    if i == 3:\n",
    "        break\n",
    "else:\n",
    "    # if no-break, print 4\n",
    "    print(4)\n",
    "\n",
    "print()\n",
    "\n",
    "for i in range(2):\n",
    "    print(i)\n",
    "    if i == 3:\n",
    "        break\n",
    "else:\n",
    "    # if no-break, print 4\n",
    "    print(4)"
   ]
  },
  {
   "cell_type": "markdown",
   "id": "f7d8c7cd",
   "metadata": {},
   "source": [
    "### `while`"
   ]
  },
  {
   "cell_type": "markdown",
   "id": "dbe4becf",
   "metadata": {},
   "source": [
    "### `try ... except ... else ... finally`"
   ]
  },
  {
   "cell_type": "code",
   "execution_count": 103,
   "id": "6ba9bdd1-ae86-4d25-9653-a569a795c439",
   "metadata": {},
   "outputs": [
    {
     "name": "stdout",
     "output_type": "stream",
     "text": [
      "processed=5, good=1, badValues=2, badItems=2, elseList=1\n"
     ]
    }
   ],
   "source": [
    "processed = 0\n",
    "good = 0\n",
    "badValues = 0\n",
    "badItems = 0\n",
    "elseList = 0\n",
    "\n",
    "todolist = [\n",
    "    'red:14.2',          # ValueError\n",
    "    'yellow.band',       # IndexError\n",
    "    '23',                # IndexError\n",
    "    'purple:-3',         # good & else\n",
    "    'yellow:band'        # ValueError\n",
    "]\n",
    "\n",
    "for item in todolist:\n",
    "    try:\n",
    "        l = item.split(':')\n",
    "        value = int(l[1])\n",
    "        good += 1\n",
    "    except ValueError:\n",
    "        badValues += 1\n",
    "    except IndexError:\n",
    "        badItems += 1\n",
    "    except:\n",
    "        processed -= 1\n",
    "    else:\n",
    "        elseList += 1\n",
    "    finally:\n",
    "        processed += 1\n",
    "\n",
    "print(f\"{processed=}, {good=}, {badValues=}, {badItems=}, {elseList=}\")\n"
   ]
  },
  {
   "cell_type": "markdown",
   "id": "f36d60be",
   "metadata": {},
   "source": [
    "### `with`"
   ]
  },
  {
   "cell_type": "markdown",
   "id": "1462bb95",
   "metadata": {},
   "source": [
    "### `match`"
   ]
  },
  {
   "cell_type": "markdown",
   "id": "8b6d694a-f686-4ff9-b947-42c10859dd3b",
   "metadata": {},
   "source": [
    "### `async def` and `async for` and `async with`\n",
    "\n",
    "Functions defined with `async def` syntax are always coroutine functions, even if they do not contain `await` or `async` keywords.\n",
    "\n",
    "The `async for` statement allows convenient iteration over asynchronous iterables.\n",
    "\n"
   ]
  },
  {
   "cell_type": "code",
   "execution_count": null,
   "id": "63ecd963-7acc-4e64-9ba2-3a960e860b6b",
   "metadata": {},
   "outputs": [],
   "source": [
    "import asyncio\n",
    "import random\n",
    "\n",
    "\n",
    "async def say_hello():\n",
    "    print('Hello')\n",
    "    await asyncio.sleep(2)\n",
    "    print('world')\n",
    "\n",
    "\n",
    "async def task(name, delay):\n",
    "    print(f'{name} is started')\n",
    "    await asyncio.sleep(delay)\n",
    "    print(f'{name} is completed')\n",
    "\n",
    "\n",
    "async def main1():\n",
    "    await asyncio.gather(task('task01', 2), task('task02', 4), task('task03', 3))\n",
    "\n",
    "\n",
    "async_queue = asyncio.Queue()\n",
    "\n",
    "\n",
    "async def producer():\n",
    "    for i in range(5):\n",
    "        item = random.randint(1, 100)\n",
    "        await async_queue.put(item)\n",
    "        print(f'Produced {item}')\n",
    "        await asyncio.sleep(2)\n",
    "\n",
    "\n",
    "async def consumer():\n",
    "    while True:\n",
    "        item = await async_queue.get()\n",
    "        print(f'Consumed {item}')\n",
    "        async_queue.task_done()\n",
    "\n",
    "\n",
    "async def main2():\n",
    "    producer_task = asyncio.create_task(producer())\n",
    "    consumer_task = asyncio.create_task(consumer())\n",
    "\n",
    "    await producer_task\n",
    "    await async_queue.join()\n",
    "    consumer_task.cancel()\n",
    "\n",
    "\n",
    "# asyncio.run(say_hello())\n",
    "# asyncio.run(main1())\n",
    "asyncio.run(main2())\n"
   ]
  },
  {
   "cell_type": "markdown",
   "id": "43e61f3f-4697-4cc6-826d-46c5668c9751",
   "metadata": {},
   "source": [
    "## IO\n",
    "\n",
    "Lib/io.py\n",
    "\n",
    "```\n",
    "  IOBase\n",
    "\t  RawIOBase\n",
    "\t\t  FileIO\n",
    "\t  BufferedIOBase\n",
    "\t\t  BytesIO\n",
    "\t\t  BufferedReader\n",
    "\t\t  BufferedWritter\n",
    "\t\t  BufferedRandom\n",
    "\t\t  BufferedRWPair\n",
    "\t  TextIOBase\n",
    "\t\t  StringIO\n",
    "\t\t  TextIOWrapper\n",
    "```\n"
   ]
  },
  {
   "cell_type": "markdown",
   "id": "d201b21b-0f9c-4843-b69f-506272415e4f",
   "metadata": {},
   "source": [
    "### file operations\n",
    "\n",
    "https://docs.python.org/3.12/library/filesys.html\n",
    "https://docs.python.org/3.13/library/pathlib.html#corresponding-tools\n",
    "\n",
    "---\n",
    "\n",
    "File operations\n",
    "\n",
    "如果给了一个路径 path\n",
    "| operation | `os`, `os.path` | `pathlib` |\n",
    "| --------- | -- | -- |\n",
    "| 获取当前工作目录 | `` | |\n",
    "| 修改当前工作目录 | | |\n",
    "| 解析 `~` 符号 | `os.path.expanduser('~')` | `Path('~').expanduser()` |\n",
    "| 判断是不是绝对路径 | `os.path.isabs(fp)` | `pathlib.Path(fp).is_absolute()` |\n",
    "| 获取绝对路径 | | | \n",
    "| 路径拼接 | `os.path.join('dir', 'subdir', 'file.txt'`) | `Path('dir') / 'subdir' / 'file.txt'` |\n",
    "| 获取文件名(带扩展名），文件名（不带扩展名）和扩展名 | `filename_with_ext = os.path.basename(path); file_name_only, ext = os.path.splitext(filename_with_ext)` | `p = Path('path); filename_with_ext = p.name; file_name_only = p.stem; ext = p.suffix` |\n",
    "｜ ｜ ｜ ｜\n",
    "| 是否文件存在 | `os.path.exists(\"path\")` | `Path(\"path\").exists()` |\n",
    "| 是否符号链接文件 | `os.path.islink(\"path\")` | `Path(\"path\").is_symlink()` | \n",
    "｜ 符号链接 - 返回符号链接所指向的目标 | | |\n",
    "| 是否目录 ｜ `os.path.isdir(\"path\")` | `Path(\"path\").is_dir()` |\n",
    "| 是否文件 | `os.path.isfile(\"path\")` | `Path(\"path\").is_file()` |\n",
    "｜ ｜ ｜ ｜\n",
    "| 查看文件信息 | `os.stat(\"path\")` | `Path('path').stat()` |\n",
    "| 查看文件大小 | `os.path.getsize('path')`, or `os.stat('path').st_size` | `Path('path').stat().st_size` |\n",
    "| 修改文件模式和权限 ｜ ｜ ｜\n",
    "｜ ｜ ｜ ｜\n",
    "| 创建目录 | | |\n",
    "｜ 创建文件 | | |\n",
    "| 创建链接文件 ｜ ｜ ｜\n",
    "｜ 重命名文件 | | |\n",
    "｜ 删除文件 ｜ ｜ ｜\n",
    "| 复制文件 ｜ ｜ ｜\n",
    "｜ 复制文件树 | | |\n",
    "｜ 比较文件 ｜ ｜ ｜\n",
    "| 删除文件树 | | |\n",
    "| 移动文件 | | | \n",
    "| 压缩文件 | | |\n",
    "｜ 解压缩文件 | | |\n",
    "｜ ｜ ｜ ｜\n",
    "｜ 列出目录下的所有文件 ｜ ｜ ｜\n",
    "｜ 递归列出目录下的所有文件 ｜ ｜ ｜\n",
    "｜ 查找特定的文件(例如 *.py) | | | \n",
    "｜ ｜ ｜ ｜\n",
    "｜ 创建文件对象 | | |\n",
    "| 读文件 | | |\n",
    "| 写新文件 | | |\n",
    "| 在文件末尾追加内容 | | |\n",
    "| 修改文件 | | | "
   ]
  },
  {
   "cell_type": "markdown",
   "id": "efcafc4a-4b09-4a4c-acdf-5a0830f5baf4",
   "metadata": {},
   "source": [
    "#### Home directory and current working directory"
   ]
  },
  {
   "cell_type": "code",
   "execution_count": 226,
   "id": "dc9446d9-977e-4ad5-aa70-e55c450aab4b",
   "metadata": {},
   "outputs": [
    {
     "name": "stdout",
     "output_type": "stream",
     "text": [
      "type- <class 'str'>, !r- '/Users/pete/ws/github/demos/python-demos/demos', !s- /Users/pete/ws/github/demos/python-demos/demos\n",
      "type- <class 'pathlib.PosixPath'>, !r- PosixPath('/Users/pete/ws/github/demos/python-demos/demos'), !s- /Users/pete/ws/github/demos/python-demos/demos\n",
      "\n",
      "/Users/pete/ws/github/demos/python-demos/demos\n",
      "/Users/pete/ws/github/demos/python-demos\n",
      "\n",
      "\n",
      "type- <class 'str'>, !r- '/Users/pete', !s- /Users/pete\n",
      "type- <class 'pathlib.PosixPath'>, !r- PosixPath('/Users/pete'), !s- /Users/pete\n"
     ]
    }
   ],
   "source": [
    "import os\n",
    "from pathlib import Path\n",
    "\n",
    "# get current working directory\n",
    "cwd = os.getcwd()\n",
    "pwrite(cwd)\n",
    "\n",
    "cwd2 = Path.cwd()\n",
    "pwrite(cwd2)\n",
    "\n",
    "print()\n",
    "\n",
    "print(os.getcwd())\n",
    "os.chdir('..')  # change the current working directory\n",
    "print(os.getcwd())\n",
    "\n",
    "print()\n",
    "\n",
    "print()\n",
    "\n",
    "# get the home directory\n",
    "home = os.path.expanduser('~')\n",
    "pwrite(home)\n",
    "\n",
    "home2 = Path('~').expanduser()\n",
    "pwrite(home2)"
   ]
  },
  {
   "cell_type": "markdown",
   "id": "a403f68a-0e19-44bc-91b5-210a4a3a7e34",
   "metadata": {},
   "source": [
    "#### file name and extension"
   ]
  },
  {
   "cell_type": "code",
   "execution_count": 240,
   "id": "7cdee150-a004-493b-b265-b6de1ada3b13",
   "metadata": {},
   "outputs": [
    {
     "name": "stdout",
     "output_type": "stream",
     "text": [
      "file_name_with_extension='Untitled.ipynb', file_name_only='Untitled', ext='.ipynb'\n",
      "\n",
      "file_name_with_extension='Untitled.ipynb', file_name_only='Untitled', ext='.ipynb'\n"
     ]
    }
   ],
   "source": [
    "fp1 = '~/Untitled.ipynb'\n",
    "\n",
    "file_name_with_extension = os.path.basename(fp1)\n",
    "file_name_only, ext = os.path.splitext(file_name_with_extension)\n",
    "print(f'{file_name_with_extension=}, {file_name_only=}, {ext=}')\n",
    "\n",
    "print()\n",
    "\n",
    "p1 = Path(fp1)\n",
    "file_name_with_extension = p1.name\n",
    "file_name_only = p1.stem\n",
    "ext = p1.suffix\n",
    "print(f'{file_name_with_extension=}, {file_name_only=}, {ext=}')"
   ]
  },
  {
   "cell_type": "markdown",
   "id": "4f84a335-a3ec-4f99-ba32-e344d2646a47",
   "metadata": {},
   "source": [
    "#### file info"
   ]
  },
  {
   "cell_type": "code",
   "execution_count": 312,
   "id": "fa29b229-6ce7-4d20-a6dd-5c1072f08b08",
   "metadata": {},
   "outputs": [
    {
     "name": "stdout",
     "output_type": "stream",
     "text": [
      "os.path.getsize(fp1_real)=72 bytes\n",
      "\n",
      "os.stat_result(st_mode=33188, st_ino=29369087, st_dev=16777232, st_nlink=1, st_uid=501, st_gid=20, st_size=72, st_atime=1740050947, st_mtime=1740050947, st_ctime=1740050947)\n",
      "\n",
      "stat_r.st_size=72 bytes\n",
      "stat_r.st_mode=33188,  file mode: -rw-r--r--\n",
      "stat_r.st_atime=1740050947.6861765,      access time:      2025-02-20 19:29:07.686177\n",
      "stat_r.st_mtime=1740050947.3007934,      modify time:      2025-02-20 19:29:07.300793\n",
      "stat_r.st_ctime=1740050947.3007934,      meta change time: 2025-02-20 19:29:07.300793\n",
      "stat_r.st_birthtime=1740050947.3000987,  creation time:    2025-02-20 19:29:07.300099\n",
      "\n",
      "os.stat_result(st_mode=33188, st_ino=29369087, st_dev=16777232, st_nlink=1, st_uid=501, st_gid=20, st_size=72, st_atime=1740050947, st_mtime=1740050947, st_ctime=1740050947)\n",
      "\n",
      "stat_r.st_size=72 bytes\n",
      "stat_r.st_mode=33188,  file mode: -rw-r--r--\n",
      "stat_r.st_atime=1740050947.6861765,      access time:      2025-02-20 19:29:07.686177\n",
      "stat_r.st_mtime=1740050947.3007934,      modify time:      2025-02-20 19:29:07.300793\n",
      "stat_r.st_ctime=1740050947.3007934,      meta change time: 2025-02-20 19:29:07.300793\n",
      "stat_r.st_birthtime=1740050947.3000987,  creation time:    2025-02-20 19:29:07.300099\n",
      "\n"
     ]
    }
   ],
   "source": [
    "import stat\n",
    "from datetime import datetime\n",
    "\n",
    "def print_file_stat(stat_r):\n",
    "    print(f'{stat_r.st_size=} bytes')\n",
    "    print(f'{stat_r.st_mode=},  file mode: {stat.filemode(stat_r.st_mode)}')\n",
    "    print(f'{stat_r.st_atime=},      access time:      {datetime.fromtimestamp(stat_r.st_atime)}')\n",
    "    print(f'{stat_r.st_mtime=},      modify time:      {datetime.fromtimestamp(stat_r.st_mtime)}')\n",
    "    print(f'{stat_r.st_ctime=},      meta change time: {datetime.fromtimestamp(stat_r.st_ctime)}')\n",
    "    print(f'{stat_r.st_birthtime=},  creation time:    {datetime.fromtimestamp(stat_r.st_birthtime)}')\n",
    "    print()    \n",
    "\n",
    "fp1 = '~/Untitled.ipynb'\n",
    "fp1_real = os.path.expanduser(fp1)\n",
    "\n",
    "print(f'{os.path.getsize(fp1_real)=} bytes')\n",
    "print()\n",
    "\n",
    "stat1 = os.stat(fp1_real, follow_symlinks=True)\n",
    "print(stat1)\n",
    "print()\n",
    "print_file_stat(stat1)\n",
    "\n",
    "\n",
    "stat2 = Path(fp1).expanduser().stat()\n",
    "print(stat2)\n",
    "print()\n",
    "print_file_stat(stat2)"
   ]
  },
  {
   "cell_type": "markdown",
   "id": "d6a8fc29-6849-4f27-99f0-3582926043a8",
   "metadata": {},
   "source": [
    "#### file seek"
   ]
  },
  {
   "cell_type": "code",
   "execution_count": 188,
   "id": "7ec5b32d-ce85-4bb3-bd6b-802e5de3987b",
   "metadata": {},
   "outputs": [],
   "source": [
    "infile='../data/test_text.txt'\n",
    "outfile='../data/out_test_text.txt'\n",
    "\n",
    "with open(infile, 'rb') as ifile:\n",
    "    with open(outfile,'wb') as ofile:\n",
    "        for line in ifile.readlines():\n",
    "            ofile.write(line.strip(b\"\\n\"))\n",
    "            ofile.write(b\",\")\n",
    "        ofile.seek(-1, 1)\n",
    "        ofile.write(b\".\")\n",
    "\n",
    "\n",
    "        "
   ]
  },
  {
   "cell_type": "markdown",
   "id": "2e2e8ae4-c97b-4d27-aad7-2a43a8de743b",
   "metadata": {},
   "source": [
    "### `mmap` Memory-mapped file support"
   ]
  },
  {
   "cell_type": "code",
   "execution_count": 139,
   "id": "63a56ca0-c831-4d45-af37-4546d0e5b66f",
   "metadata": {},
   "outputs": [
    {
     "name": "stdout",
     "output_type": "stream",
     "text": [
      "b'\\xef\\xbb\\xbfThe Project Gutenberg eBook of Simple Sabotage Field Manual\\r\\n'\n"
     ]
    }
   ],
   "source": [
    "import mmap\n",
    "\n",
    "# 不能使用 `rb` 模式，会报错误 “PermissionError: [Errno 13] Permission denied”\n",
    "with open('/Users/pete/ws/github/demos/python-demos/data/pg26184.txt', \"r+b\") as f:\n",
    "    with mmap.mmap(f.fileno(), 0) as mm:\n",
    "        print(mm.readline())\n",
    "\n"
   ]
  },
  {
   "cell_type": "markdown",
   "id": "54e203ea-a715-4008-ba61-98cc2e8cdd5b",
   "metadata": {},
   "source": [
    "### Lib `asyncio`\n",
    "\n",
    "https://docs.python.org/3.13/library/asyncio.html#module-asyncio\n",
    "\n"
   ]
  },
  {
   "cell_type": "markdown",
   "id": "42718370-c390-4934-a5e0-1dda911e2c57",
   "metadata": {},
   "source": [
    "## Functions"
   ]
  },
  {
   "cell_type": "code",
   "execution_count": null,
   "id": "13cf8823-d2ad-428c-8780-f39a2a94cea5",
   "metadata": {},
   "outputs": [],
   "source": [
    "def celsius2fahrenheit(x):\n",
    "    return 9 * x / 5 + 32"
   ]
  },
  {
   "cell_type": "code",
   "execution_count": 1,
   "id": "fd006264-f216-43ec-b54c-b7476b1e9f66",
   "metadata": {},
   "outputs": [
    {
     "name": "stdout",
     "output_type": "stream",
     "text": [
      "<class 'function'>\n",
      "<class 'function'> 56\n"
     ]
    }
   ],
   "source": [
    "def f1():\n",
    "    pass  # empty block\n",
    "\n",
    "print(type(f1))\n",
    "\n",
    "# return statement\n",
    "def f2(n):\n",
    "    return n * 8\n",
    "\n",
    "print(type(f2), f2(7))"
   ]
  },
  {
   "cell_type": "markdown",
   "id": "4acec0b5-3567-45c5-8bfb-72d15d126efa",
   "metadata": {},
   "source": [
    "### Positional / Keyword Arguments"
   ]
  },
  {
   "cell_type": "code",
   "execution_count": 146,
   "id": "d2aaa55c-84b3-48c3-a713-3bb53986e27d",
   "metadata": {},
   "outputs": [
    {
     "name": "stderr",
     "output_type": "stream",
     "text": [
      ".\n",
      "----------------------------------------------------------------------\n",
      "Ran 1 test in 0.002s\n",
      "\n",
      "OK\n"
     ]
    },
    {
     "data": {
      "text/plain": [
       "<unittest.main.TestProgram at 0x13044c040>"
      ]
     },
     "execution_count": 146,
     "metadata": {},
     "output_type": "execute_result"
    }
   ],
   "source": [
    "def foo(a, b, /, c, d, *, e, f):\n",
    "    \"\"\"\n",
    "    在 `/` 之前的参数 `a`, `b` 是只能用位置参数(be restricted to use only positonal parameters)\n",
    "    在 `*` 之后的参数 `e`, `f` 是只能用关键字参数 (be restricted to use only keyword parameters)\n",
    "    `c`, `d` 是都可以.\n",
    "    \"\"\"\n",
    "    return (a, b, c, d, e, f)\n",
    "\n",
    "import unittest\n",
    "\n",
    "class TestC(unittest.TestCase):\n",
    "    def test_foo(self):\n",
    "        self.assertEqual(foo(1, 2, 3, 4, e=5, f=6), (1, 2, 3, 4, 5, 6))\n",
    "        self.assertEqual(foo(1, 2, c=3, d=4, e=5, f=6), (1, 2, 3, 4, 5, 6))\n",
    "        with self.assertRaises(SyntaxError):\n",
    "            # should use `f=6` parameter\n",
    "            exec('foo(1, 2, 3, 4, e=5, 6)')\n",
    "        with self.assertRaises(TypeError):\n",
    "            # should use `e=5, f=6` parameters\n",
    "            exec('foo(1, 2, 3, 4, 5, 6)')\n",
    "        with self.assertRaises(SyntaxError):\n",
    "            # shoud use positional parameter for `a`\n",
    "            exec('foo(a=1, 2, 3, 4, e=5, f=6)')            \n",
    "        with self.assertRaises(SyntaxError):\n",
    "            # shoud use positional parameter for `b`\n",
    "            exec('foo(1, b=2, 3, 4, e=5, f=6)')            \n",
    "\n",
    "\n",
    "unittest.main(argv=[''], exit=False)\n"
   ]
  },
  {
   "cell_type": "markdown",
   "id": "00577675-0b43-405b-accc-5c056f26ac1e",
   "metadata": {},
   "source": [
    "### Anonymous Functions"
   ]
  },
  {
   "cell_type": "code",
   "execution_count": 2,
   "id": "7625eb75-0721-4b34-bc2f-584c3521017b",
   "metadata": {},
   "outputs": [
    {
     "name": "stdout",
     "output_type": "stream",
     "text": [
      "<class 'function'> 24\n",
      "<class 'function'> 128\n"
     ]
    }
   ],
   "source": [
    "f1 = lambda x : 3 * x\n",
    "print(type(f1), f1(8))\n",
    "\n",
    "\n",
    "f2 = lambda x, y : x ** y\n",
    "print(type(f2), f2(2, 7))"
   ]
  },
  {
   "cell_type": "markdown",
   "id": "9ef56b68-d57a-4585-bc56-a0634a0efdba",
   "metadata": {},
   "source": [
    "### Decorator"
   ]
  },
  {
   "cell_type": "code",
   "execution_count": 20,
   "id": "fb2b5a53-8e47-4894-8a83-4f785684b5dc",
   "metadata": {},
   "outputs": [
    {
     "name": "stdout",
     "output_type": "stream",
     "text": [
      "wrapper wrapper doc string\n"
     ]
    }
   ],
   "source": [
    "def my_decorator_1(f):\n",
    "    def wrapper(*args, **kwds):\n",
    "        \"\"\"wrapper doc string\"\"\"\n",
    "        print('Calling decorated function')\n",
    "        return f(*args, **kwds)\n",
    "    return wrapper\n",
    "\n",
    "@my_decorator_1\n",
    "def example():\n",
    "    \"\"\"example doc string\"\"\"\n",
    "    print(\"called example function\")\n",
    "\n",
    "print(example.__name__, example.__doc__) # the example.__name__ is \"wrapper\"\n"
   ]
  },
  {
   "cell_type": "code",
   "execution_count": 22,
   "id": "05254ba1-c3b7-4e76-a5cc-5e4cc30ae914",
   "metadata": {},
   "outputs": [
    {
     "name": "stdout",
     "output_type": "stream",
     "text": [
      "example example doc string\n"
     ]
    }
   ],
   "source": [
    "from functools import wraps\n",
    "\n",
    "def my_decorator_1(f):\n",
    "    @wraps(f)      # update a wrapper fuction to look like wrapped function.\n",
    "    def wrapper(*args, **kwds):\n",
    "        \"\"\"wrapper doc string\"\"\"\n",
    "        print('Calling decorated function')\n",
    "        return f(*args, **kwds)\n",
    "    return wrapper\n",
    "\n",
    "@my_decorator_1\n",
    "def example():\n",
    "    \"\"\"example doc string\"\"\"\n",
    "    print(\"called example function\")\n",
    "\n",
    "print(example.__name__, example.__doc__) # the example.__name__ is \"example\""
   ]
  },
  {
   "cell_type": "markdown",
   "id": "f3c3be87-00e7-46ff-a39a-dcedf6249bab",
   "metadata": {},
   "source": [
    "### Generator"
   ]
  },
  {
   "cell_type": "markdown",
   "id": "a4ef3e0f-df2f-449e-9c0d-0e038aa12e1b",
   "metadata": {},
   "source": [
    "#### Generator expression"
   ]
  },
  {
   "cell_type": "code",
   "execution_count": 204,
   "id": "dffe541e-7e8e-472a-911f-f597e023784b",
   "metadata": {},
   "outputs": [
    {
     "name": "stdout",
     "output_type": "stream",
     "text": [
      "<generator object <genexpr> at 0x14f8352a0> <class 'generator'> 5628973728\n",
      "\n",
      "[8, 2, 4] <class 'list'>\n"
     ]
    }
   ],
   "source": [
    "s = [1, 3, 5, 7, 8, 2, 4]\n",
    "\n",
    "g1 = (x for x in s if x % 2 == 0)\n",
    "\n",
    "print(g1, type(g1), id(g1))\n",
    "\n",
    "print()\n",
    "\n",
    "s1 = [x for x in s if x % 2 == 0]\n",
    "print(s1, type(s1))"
   ]
  },
  {
   "cell_type": "markdown",
   "id": "6418035e-50f1-4099-813e-9afb7b19523f",
   "metadata": {},
   "source": [
    "#### Using `yield`"
   ]
  },
  {
   "cell_type": "code",
   "execution_count": 224,
   "id": "55852110-b1d6-47b4-be3f-c1e87dc7fdfd",
   "metadata": {},
   "outputs": [
    {
     "name": "stdout",
     "output_type": "stream",
     "text": [
      "<class 'function'> <class 'function'> <class 'function'>\n",
      "1 2 3 \n",
      "1 , 2 , 3 , \n",
      "1 ... 2 ... 3 ... \n",
      "[1, 2, 3]\n",
      "just use `next(f1())` always return the first elemement\n",
      "1\n",
      "1\n",
      "1\n",
      "\n",
      "set the generator(f1()) to a variable `g1`, then can use `next(g1)` to get the following elements\n",
      "type- <class 'generator'>, !r- <generator object f1 at 0x14fd95230>, !s- <generator object f1 at 0x14fd95230>\n",
      "1\n",
      "2\n",
      "3\n",
      "[1, 2, 3]\n"
     ]
    }
   ],
   "source": [
    "def f1():      # first generator function\n",
    "    yield 1\n",
    "    yield 2\n",
    "    yield 3\n",
    "\n",
    "def f2():      # second generator function\n",
    "    for i in [1, 2, 3]:\n",
    "        yield i\n",
    "\n",
    "def f3():     # ... and third generator function\n",
    "    yield from [1, 2, 3]\n",
    "\n",
    "\n",
    "print(type(f1), type(f2), type(f3))\n",
    "\n",
    "for x in f1():\n",
    "    print(x, end=' ')\n",
    "print()\n",
    "\n",
    "for x in f2():\n",
    "    print(x, end=' , ')\n",
    "print()\n",
    "\n",
    "for x in f3():\n",
    "    print(x, end=' ... ')\n",
    "print()\n",
    "\n",
    "print([n for n in iter(f1())])\n",
    "print()\n",
    "\n",
    "print('just use `next(f1())` always return the first elemement')\n",
    "print(next(f1()))\n",
    "print(next(f1()))\n",
    "print(next(f1()))\n",
    "\n",
    "print()\n",
    "\n",
    "print('set the generator(f1()) to a variable `g1`, then can use `next(g1)` to get the following elements')\n",
    "g1=f1()\n",
    "pwrite(g1)\n",
    "print(next(g1))\n",
    "print(next(g1))\n",
    "print(next(g1))\n",
    "# print(next(g1))   # it will throw `StopIteration`\n",
    "print()\n",
    "\n",
    "l = []\n",
    "g1 = f1()\n",
    "while True:\n",
    "    try:\n",
    "        l.append(next(g1))\n",
    "    except StopIteration:\n",
    "        break\n",
    "print(l)"
   ]
  },
  {
   "cell_type": "markdown",
   "id": "8e242287-ecea-470d-bb06-ec78fcdbcab0",
   "metadata": {},
   "source": [
    "### Closure functions (闭包函数）"
   ]
  },
  {
   "cell_type": "code",
   "execution_count": 51,
   "id": "5fbf6636-4d91-4949-9cd1-8129e4f206e4",
   "metadata": {},
   "outputs": [
    {
     "name": "stdout",
     "output_type": "stream",
     "text": [
      "<class 'function'> make_counter make counter\n",
      "<class 'function'> counter\n",
      "1 2 3 4 5\n"
     ]
    }
   ],
   "source": [
    "def make_counter():\n",
    "    \"\"\"make counter\"\"\"\n",
    "    count = 0        # variable in the outer function\n",
    "    def counter():   # this is a closure\n",
    "        \"\"\"counter\"\"\"\n",
    "        nonlocal count\n",
    "        count += 1\n",
    "        return count\n",
    "    return counter\n",
    "\n",
    "print(type(make_counter), make_counter.__name__, make_counter.__doc__)\n",
    "\n",
    "c = make_counter()\n",
    "print(type(c), c.__name__)\n",
    "\n",
    "print(c(), c(), c(), c(), c())\n",
    "\n"
   ]
  },
  {
   "cell_type": "markdown",
   "id": "73c9dc4b-1dfa-48ec-b6d1-b004eae8e70e",
   "metadata": {},
   "source": [
    "### Coroutine(协程)"
   ]
  },
  {
   "cell_type": "code",
   "execution_count": 247,
   "id": "e5bcccdf-4524-401a-a521-d71cebf38889",
   "metadata": {},
   "outputs": [
    {
     "name": "stdout",
     "output_type": "stream",
     "text": [
      "Hello\n",
      "world\n"
     ]
    }
   ],
   "source": [
    "import asyncio\n",
    "import random\n",
    "\n",
    "\n",
    "async def say_hello():\n",
    "    print('Hello')\n",
    "    await asyncio.sleep(2)\n",
    "    print('world')\n",
    "\n",
    "# in jupyter notebook, can not run as below\n",
    "# asyncio.run(say_hello())\n",
    "\n",
    "# just use `await`\n",
    "await say_hello()"
   ]
  },
  {
   "cell_type": "code",
   "execution_count": 251,
   "id": "31c05568-f432-455a-a0b4-3d7b39ca9c81",
   "metadata": {},
   "outputs": [
    {
     "name": "stdout",
     "output_type": "stream",
     "text": [
      "task01 is started\n",
      "task02 is started\n",
      "task03 is started\n",
      "task01 is completed\n",
      "task03 is completed\n",
      "task02 is completed\n"
     ]
    }
   ],
   "source": [
    "# in jupyter notebook, need to use `nest_asyncio` to let to use `asyncio.run()` \n",
    "import nest_asyncio\n",
    "nest_asyncio.apply()\n",
    "# in jupyter notebook, need to use `nest_asyncio` to let to use `asyncio.run()` \n",
    "\n",
    "\n",
    "async def task(name, delay):\n",
    "    print(f'{name} is started')\n",
    "    await asyncio.sleep(delay)\n",
    "    print(f'{name} is completed')\n",
    "\n",
    "\n",
    "async def main1():\n",
    "    await asyncio.gather(task('task01', 2), task('task02', 4), task('task03', 3))\n",
    "\n",
    "\n",
    "asyncio.run(main1())"
   ]
  },
  {
   "cell_type": "code",
   "execution_count": 253,
   "id": "5fa682e7-8db0-4803-b3d0-a14879884eaf",
   "metadata": {},
   "outputs": [
    {
     "name": "stdout",
     "output_type": "stream",
     "text": [
      "Produced 24\n",
      "Consumed 24\n",
      "Produced 18\n",
      "Consumed 18\n",
      "Produced 98\n",
      "Consumed 98\n",
      "Produced 55\n",
      "Consumed 55\n",
      "Produced 55\n",
      "Consumed 55\n"
     ]
    }
   ],
   "source": [
    "async_queue = asyncio.Queue()\n",
    "\n",
    "\n",
    "async def producer():\n",
    "    for i in range(5):\n",
    "        item = random.randint(1, 100)\n",
    "        await async_queue.put(item)\n",
    "        print(f'Produced {item}')\n",
    "        await asyncio.sleep(2)\n",
    "\n",
    "\n",
    "async def consumer():\n",
    "    while True:\n",
    "        item = await async_queue.get()\n",
    "        print(f'Consumed {item}')\n",
    "        async_queue.task_done()\n",
    "\n",
    "\n",
    "async def main2():\n",
    "    producer_task = asyncio.create_task(producer())\n",
    "    consumer_task = asyncio.create_task(consumer())\n",
    "\n",
    "    await producer_task\n",
    "    await async_queue.join()\n",
    "    consumer_task.cancel()\n",
    "\n",
    "\n",
    "asyncio.run(main2())"
   ]
  },
  {
   "cell_type": "markdown",
   "id": "596166e9-c2cb-45f1-a125-2a4970149a1f",
   "metadata": {},
   "source": [
    "### `itertools`"
   ]
  },
  {
   "cell_type": "code",
   "execution_count": null,
   "id": "28342a54-2a2f-44b4-8b13-1df4b8d12bc1",
   "metadata": {},
   "outputs": [],
   "source": []
  },
  {
   "cell_type": "markdown",
   "id": "1be29ae9-06bc-441d-878d-eea580acea45",
   "metadata": {},
   "source": [
    "### `Lib/functools.py`"
   ]
  },
  {
   "cell_type": "markdown",
   "id": "da62619d",
   "metadata": {},
   "source": [
    "## Classes and Objects\n",
    "\n",
    "Python is an object oriented programming language.\n",
    "\n",
    "Almost everything in Python is an object, with its properties and methods.\n",
    "\n",
    "A Class is like an object constructor, or a \"blueprint\" for creating objects.\n",
    "\n",
    "A class bundles behavior and state, it has methods and attributes(properties).\n",
    "\n",
    "Creating objects from classes, objects share behavior but not state."
   ]
  },
  {
   "cell_type": "markdown",
   "id": "05ac88b1-adfe-4eed-a33f-dd61d6fdf410",
   "metadata": {},
   "source": [
    "### Metaclasses\n",
    "\n",
    "Metaclasses 是 定制 class 的 类，它 控制 类的生成过程\n",
    "\n",
    "`class type` 是所有类的元类(Metaclass)\n",
    "\n",
    "`class object` 是所有类的基类。"
   ]
  },
  {
   "cell_type": "markdown",
   "id": "92e04c28-34a1-444b-9a0f-bad6359356e8",
   "metadata": {},
   "source": [
    "`class type(name, bases, dict)` with three arguments, it returns a new type object. This is essentially a dynamic form of `class` statement."
   ]
  },
  {
   "cell_type": "markdown",
   "id": "521fdfe4-84a1-4d00-b57e-fd8a6a93b036",
   "metadata": {},
   "source": [
    "```\n",
    "class X:\n",
    "    a = \n",
    "```\n",
    "\n",
    "上面的定义和下面的是一样的\n",
    "\n",
    "```\n",
    "X = type('X', (), dict(a=1))\n",
    "```"
   ]
  },
  {
   "cell_type": "markdown",
   "id": "5e85e810-1b01-4618-83bb-de39a1e1339c",
   "metadata": {},
   "source": [
    "### Class\n",
    "\n",
    "`class object` is the ultimate base class of all other classes."
   ]
  },
  {
   "cell_type": "markdown",
   "id": "96f93a66-ff7c-4476-be05-41f743763473",
   "metadata": {},
   "source": [
    "#### Get parent class(es)\n",
    "\n",
    "Python 中是允许多继承的\n",
    "\n",
    "|方法\t|作用\t|适用场景 |\n",
    "| ---- | ---- | ---- |\n",
    "|`cls.__bases__`\t|获取直接父类（元组）\t|适用于单继承 & 多继承 |\n",
    "|`super().__class__`\t|在实例方法中获取父类\t|适用于 super() 调用 |\n",
    "|`cls.mro()`\t|获取完整的继承顺序\t|适用于深度继承分析 |\n",
    "|`issubclass(sub, parent)`\t|判断子类是否继承自父类\t|适用于逻辑检查 |\n",
    "|`obj.__class__.__bases__`\t|获取实例的直接父类\t|适用于对象分析 |"
   ]
  },
  {
   "cell_type": "code",
   "execution_count": 366,
   "id": "258dc0bf-905a-4887-85ab-681ec450dfbc",
   "metadata": {},
   "outputs": [
    {
     "name": "stdout",
     "output_type": "stream",
     "text": [
      "Z.__base__=<class '__main__.X'>,        Z.__bases__=(<class '__main__.X'>, <class '__main__.Y'>)\n",
      "[<class '__main__.Z'>, <class '__main__.X'>, <class '__main__.Y'>, <class 'object'>]\n",
      "\n",
      "Y.__base__=<class 'object'>,        Y.__bases__=(<class 'object'>,)\n",
      "[<class '__main__.Y'>, <class 'object'>]\n",
      "\n",
      "X.__base__=<class 'object'>,        X.__bases__=(<class 'object'>,)\n",
      "[<class '__main__.X'>, <class 'object'>]\n",
      "\n"
     ]
    }
   ],
   "source": [
    "class X:\n",
    "    pass\n",
    "\n",
    "class Y:\n",
    "    pass\n",
    "\n",
    "class Z(X, Y):\n",
    "    pass\n",
    "\n",
    "\n",
    "print(f\"{Z.__base__=},        {Z.__bases__=}\")\n",
    "print(f\"{Z.mro()}\")   # 获得完整的继承链\n",
    "print()\n",
    "\n",
    "print(f\"{Y.__base__=},        {Y.__bases__=}\")\n",
    "print(f\"{Y.mro()}\")\n",
    "print()\n",
    "\n",
    "print(f\"{X.__base__=},        {X.__bases__=}\")\n",
    "print(f\"{X.mro()}\")\n",
    "print()"
   ]
  },
  {
   "cell_type": "code",
   "execution_count": 380,
   "id": "21b3a10c-ec63-48cb-a9da-9d307a59bc57",
   "metadata": {},
   "outputs": [
    {
     "name": "stdout",
     "output_type": "stream",
     "text": [
      "issubclass(Z, Y)=True, issubclass(Z, X)=True, issubclass(X, Y)=False\n",
      "issubclass(Z, object)=True, issubclass(X, object)=True\n"
     ]
    }
   ],
   "source": [
    "print(f'{issubclass(Z, Y)=}, {issubclass(Z, X)=}, {issubclass(X, Y)=}')\n",
    "print(f'{issubclass(Z, object)=}, {issubclass(X, object)=}')"
   ]
  },
  {
   "cell_type": "markdown",
   "id": "a42fc93c-1d4a-4742-bab1-b2be761ce7a6",
   "metadata": {},
   "source": [
    "#### Special method names(magic methods)\n",
    "\n",
    "```\n",
    "`class object`\n",
    "    `.__new__(cls[, ...])`\n",
    "    `.__init__(self[, ...])`\n",
    "    `.__del__(self)`                  (`del` statement)\n",
    "    `.__repr__(self)`                 (`repr()`)\n",
    "    `.__str__(self)`                  (`str()`)\n",
    "    `.__bytes__(self)`                (`bytes()`)\n",
    "    `.__format__(self, format_spec)`  (`format()`, f-string, `str.format()`)\n",
    "    `.__lt__(self, other)`            (`<`)\n",
    "    `.__le__(self, other)`            (`<=`)\n",
    "    `.__eq__(self, other)`            (`==`)\n",
    "    `.__ne__(self, other)`            (`!=`)\n",
    "    `.__gt__(self, other)`            (`>`)\n",
    "    `.__ge__(self, other)`            (`>=`) \n",
    "    `.__hash__(self)`                 (`hash()`)\n",
    "    `.__bool__(self)`                 (`bool()`)\n",
    "```"
   ]
  },
  {
   "cell_type": "markdown",
   "id": "307149c0-cf89-4d9b-bb46-851499b06679",
   "metadata": {},
   "source": [
    "#### Public, Protected, Private\n",
    "\n",
    "In Python Object-Oriented Programming (OOP), *attributes and methods* can be public, private, or protected, \n",
    "but Python does not enforce strict access control like some other languages (e.g., Java, C++). \n",
    "Instead, it relies on naming conventions.\n",
    "\n",
    "1.\tUse public attributes unless there’s a strong reason to protect them.\n",
    "2.\tUse **protected attributes (_var)** if the attribute is meant for internal use but should be accessible by subclasses.\n",
    "3.\tUse **private attributes (__var)** when the attribute should not be modified outside the class."
   ]
  },
  {
   "cell_type": "markdown",
   "id": "a90c94c3-72a1-46f6-addf-94eb5438c5e0",
   "metadata": {
    "editable": true,
    "slideshow": {
     "slide_type": ""
    },
    "tags": []
   },
   "source": [
    "真正的私有成员（private member）：\n",
    "    - 以 双下划线 __ 开头（不以双下划线结尾）。\n",
    "    - 名称会被 Python 进行名称重整（name mangling），存储在 _类名__成员名。\n",
    "    - 外部不能直接访问（obj.__bar 会报 AttributeError）。\n",
    "\n",
    "```\n",
    "class Foo:\n",
    "    def __init__(self):\n",
    "        self.__bar = 123\n",
    "    def printBar(self):\n",
    "        print(self.__bar)\n",
    "```\n",
    "这个类里面， private member 只有 `self.__bar` , \n",
    "    不能 `Foo.__bar` 或者 `Foo().__bar` 访问\n",
    "    after name mangling, can be accessed by `Foo()._Foo__bar`\n",
    "\n",
    "`__init__` 是魔法方法，没有进行 name mangling , 可以 `Foo.__init__` 或者 `Foo().__init__` 访问"
   ]
  },
  {
   "cell_type": "code",
   "execution_count": 344,
   "id": "084540ee-545e-4406-af65-ac30bde34b11",
   "metadata": {},
   "outputs": [
    {
     "name": "stdout",
     "output_type": "stream",
     "text": [
      "123\n",
      "<function Foo.__init__ at 0x3114c0b80>\n",
      "<bound method Foo.__init__ of <__main__.Foo object at 0x14fa8d750>>\n"
     ]
    }
   ],
   "source": [
    "class Foo:\n",
    "    def __init__(self):\n",
    "        self.__bar = 123\n",
    "    def printBar(self):\n",
    "        print(self.__bar)\n",
    "\n",
    "print(Foo()._Foo__bar)\n",
    "print(Foo.__init__)\n",
    "print(Foo().__init__)"
   ]
  },
  {
   "cell_type": "code",
   "execution_count": 161,
   "id": "8275d3d8-fbf1-4264-948c-557e623e10d3",
   "metadata": {},
   "outputs": [
    {
     "name": "stdout",
     "output_type": "stream",
     "text": [
      "0, 0\n",
      "0, 0\n",
      "\n",
      "0, 0\n",
      "0, 0\n",
      "\n",
      "0, 0\n",
      "1\n",
      "1, 0\n",
      "\n",
      "1, 0\n",
      "2\n",
      "2, 0\n",
      "\n"
     ]
    }
   ],
   "source": [
    "\"\"\"\n",
    "在面向对象的编程语言中，一般有下面两个名词\n",
    "- 类 class ， 是定义，是模板，譬如 “狗” 是一个类\n",
    "    - 类属性 ， 可以通过类，或者 对象 访问\n",
    "    - 类方法 ， 可以通过类，或者 对象 访问\n",
    "- 对象 object，是类实例化之后的。譬如，“张三家的狗，李四家的狗” 是上面“狗”类的对象\n",
    "    - 对象属性，只能通过 对象 访问\n",
    "    - 对象方法，只能通过 对象 访问\n",
    "\n",
    "\n",
    "在 python 中， 需要注意：\n",
    "有一个 `class object` 它是所有所有类的基类， 所以 类 还是 class ， 但是 对象 就是 instance 了。 \n",
    "- 类 class\n",
    "    - class variable    可以通过 类，对象 访问 ， \n",
    "    - class method      可以通过 类， 对象 访问,  \n",
    "    - static method        可以通过 类， 对象 访问,        \n",
    "- 对象 instance\n",
    "    - instance variable    只能通过 对象 访问\n",
    "    - instance method      只能通过 对象 访问\n",
    "\n",
    "instance variable 可以和 class variable 重名， 通过判断是 class 还是 instance 进行区分\n",
    "\n",
    "method 不能重名， 后面的定义会覆盖前面的定义\n",
    "\n",
    "\"\"\"\n",
    "\n",
    "class ClassTest01():\n",
    "    num = 0\n",
    "    def __init__(self):\n",
    "        self.num = 0\n",
    "\n",
    "    def method10(self):\n",
    "        self.num += 1\n",
    "        return self.num\n",
    "\n",
    "    @classmethod\n",
    "    def method11(self):\n",
    "        self.num += 1\n",
    "        return self.num\n",
    "\n",
    "object_test_01 = ClassTest01()\n",
    "\n",
    "print(f'{ClassTest01.num}, {object_test_01.num}')\n",
    "print(f'{ClassTest01.method11()}')\n",
    "print(f'{ClassTest01.num}, {object_test_01.num}')\n",
    "\n",
    "print()\n",
    "\n",
    "print(f'{ClassTest01.num}, {object_test_01.num}')\n",
    "print(f'{object_test_01.method11()}')\n",
    "print(f'{ClassTest01.num}, {object_test_01.num}')\n",
    "\n",
    "print()\n",
    "\n",
    "print(f'{ClassTest01.num}, {object_test_01.num}')\n",
    "print(f'{object_test_01.method10()}')\n",
    "print(f'{ClassTest01.num}, {object_test_01.num}')\n",
    "\n",
    "print()\n",
    "\n",
    "print(f'{ClassTest01.num}, {object_test_01.num}')\n",
    "print(f'{ClassTest01.method10()}')\n",
    "print(f'{ClassTest01.num}, {object_test_01.num}')\n",
    "\n",
    "print()"
   ]
  },
  {
   "cell_type": "code",
   "execution_count": 146,
   "id": "35010256-160f-4eaf-a318-2a28d55d5912",
   "metadata": {},
   "outputs": [
    {
     "name": "stdout",
     "output_type": "stream",
     "text": [
      "0, 0\n",
      "None\n",
      "0, 1\n",
      "\n"
     ]
    }
   ],
   "source": [
    "class CLASS_():\n",
    "    num = 0\n",
    "    def __init__(self):\n",
    "        self.num = 0\n",
    "    def method(self):     # instance method, return NONE\n",
    "        return          \n",
    "        \n",
    "    def methodA(self):    # instance method, set value of the class variable to 0\n",
    "        CLASS_.num = 0\n",
    "        \n",
    "    def methodB(self):    # instance method, increase value of the class variable by 1\n",
    "        CLASS_.num = CLASS_.num + 1\n",
    "        \n",
    "    def methodC(self):    # instance method, increase value of the instance variable by 1\n",
    "        self.num += 1\n",
    "        \n",
    "    def methodD(cls):\n",
    "        CLASS_.num = CLASS_.num + 1\n",
    "    methodD = classmethod(methodD)  # class method, increase value of the class variable\n",
    "    \n",
    "    def methodE(cls):\n",
    "        return CLASS_.num\n",
    "    methodE = classmethod(methodE)  # class method, return the value of the class variable\n",
    "    \n",
    "    def methodF():\n",
    "        return CLASS_.num\n",
    "    methodF = staticmethod(methodF) # static method, return the value of the class variable\n",
    "    \n",
    "    def methodG(self):\n",
    "        self.num = self.num + 1     # instance method, increase value of the instance variable by 1\n",
    "        \n",
    "    def methodH(self):              # instance method, set and return value of the instance variable\n",
    "        self.num = CLASS_.num\n",
    "        return self.num\n",
    "\n",
    "object_ = CLASS_()\n",
    "\n",
    "print(f'{object_.num}, {CLASS_.num}')\n",
    "print(f'{CLASS_.methodD()}')\n",
    "print(f'{object_.num}, {CLASS_.num}')\n",
    "\n",
    "print()\n",
    "\n",
    "\n",
    "\n"
   ]
  },
  {
   "cell_type": "code",
   "execution_count": 3,
   "id": "3a20da5c-841d-4432-9f63-f632e4582788",
   "metadata": {},
   "outputs": [
    {
     "name": "stdout",
     "output_type": "stream",
     "text": [
      "<__main__.MyClass1 object at 0x10677ef30> <class '__main__.MyClass1'> 4403490608\n",
      "<__main__.MyClass2 object at 0x1067d0ce0> <class '__main__.MyClass2'> 4403490608\n"
     ]
    }
   ],
   "source": [
    "# create a class named \"MyClass1\"\n",
    "class MyClass1:\n",
    "    pass  # empty block\n",
    "\n",
    "# ... equals to ...\n",
    "\n",
    "class MyClass2(object):\n",
    "    pass\n",
    "\n",
    "\n",
    "# create an object named \"myclass1\"\n",
    "myclass1 = MyClass1()\n",
    "print(myclass1, type(myclass1), id(myclass1))\n",
    "\n",
    "myclass2 = MyClass2()\n",
    "print(myclass2, type(myclass2), id(myclass1))\n"
   ]
  },
  {
   "cell_type": "markdown",
   "id": "25d2a052-71ff-4d4e-a7eb-ce57d6b453b5",
   "metadata": {},
   "source": [
    "### `object.__new__(cls[, ...])` and `object.__init__()`\n",
    "\n",
    "`__new__()` is a static method, called to create a new instance of class *cls*\n",
    "\n",
    "`__init__()` is an instance method, called to customize(initialize) the instance after the instance has been created by `__new__()`.\n"
   ]
  },
  {
   "cell_type": "markdown",
   "id": "082b709c-f7f5-4f3d-87db-a99555bb22e1",
   "metadata": {},
   "source": [
    "### `@classmethod` and `@staticmethod`"
   ]
  },
  {
   "cell_type": "code",
   "execution_count": 12,
   "id": "e8dbf4b8-f970-4fa4-beba-b233374db677",
   "metadata": {},
   "outputs": [
    {
     "name": "stdout",
     "output_type": "stream",
     "text": [
      "A simple example class\n",
      "classmethod\n",
      "staticmethod\n",
      "The hair is always blue.\n",
      "Hello, I am Joe, how are you?\n",
      "<__main__.Person object at 0x106cd9cd0> <class '__main__.Person'> <class '__main__.Person'> 4409105616\n"
     ]
    }
   ],
   "source": [
    "class Person:\n",
    "    \"\"\"A simple example class\"\"\"\n",
    "    hair = 'blue'         # class variable, shared by all instances\n",
    "\n",
    "    # initialization\n",
    "    def __init__(self, name):\n",
    "        self.name = name  # instance variable, unique to each instance\n",
    "                          # `self` is a referrence to the current instance of the class\n",
    "\n",
    "    @classmethod\n",
    "    def f1(cls):\n",
    "        print('classmethod')\n",
    "\n",
    "    @staticmethod\n",
    "    def f2():\n",
    "        print('staticmethod')\n",
    "    \n",
    "    def say_hi(self):    # instance method\n",
    "        print(f'Hello, I am {self.name}, how are you?')\n",
    "\n",
    "print(Person.__doc__)\n",
    "\n",
    "Person.f1()\n",
    "Person.f2()\n",
    "\n",
    "print(f'The hair is always {Person.hair}.')\n",
    "\n",
    "\n",
    "\n",
    "p = Person('Joe')\n",
    "p.say_hi()\n",
    "\n",
    "print(p, p.__class__, type(p), id(p))"
   ]
  },
  {
   "cell_type": "markdown",
   "id": "69603242-7b81-407f-92b8-5d8dfbd5dabc",
   "metadata": {},
   "source": [
    "### `@property`\n",
    "\n",
    "Return a property attribute."
   ]
  },
  {
   "cell_type": "code",
   "execution_count": 13,
   "id": "a73b2e8b-9f7a-4827-860f-a23a168b2ab5",
   "metadata": {},
   "outputs": [
    {
     "name": "stdout",
     "output_type": "stream",
     "text": [
      "None\n",
      "Hark\n"
     ]
    },
    {
     "ename": "AttributeError",
     "evalue": "Cannot delete attribute",
     "output_type": "error",
     "traceback": [
      "\u001b[0;31m---------------------------------------------------------------------------\u001b[0m",
      "\u001b[0;31mAttributeError\u001b[0m                            Traceback (most recent call last)",
      "Cell \u001b[0;32mIn[13], line 23\u001b[0m\n\u001b[1;32m     20\u001b[0m dog\u001b[38;5;241m.\u001b[39mname \u001b[38;5;241m=\u001b[39m \u001b[38;5;124m'\u001b[39m\u001b[38;5;124mHark\u001b[39m\u001b[38;5;124m'\u001b[39m  \u001b[38;5;66;03m# invoke @setter\u001b[39;00m\n\u001b[1;32m     21\u001b[0m \u001b[38;5;28mprint\u001b[39m(dog\u001b[38;5;241m.\u001b[39mname)\n\u001b[0;32m---> 23\u001b[0m \u001b[38;5;28;01mdel\u001b[39;00m dog\u001b[38;5;241m.\u001b[39mname\n",
      "Cell \u001b[0;32mIn[13], line 15\u001b[0m, in \u001b[0;36mDog.name\u001b[0;34m(self)\u001b[0m\n\u001b[1;32m     13\u001b[0m \u001b[38;5;129m@name\u001b[39m\u001b[38;5;241m.\u001b[39mdeleter           \u001b[38;5;66;03m# @deleter\u001b[39;00m\n\u001b[1;32m     14\u001b[0m \u001b[38;5;28;01mdef\u001b[39;00m \u001b[38;5;21mname\u001b[39m(\u001b[38;5;28mself\u001b[39m):\n\u001b[0;32m---> 15\u001b[0m     \u001b[38;5;28;01mraise\u001b[39;00m \u001b[38;5;167;01mAttributeError\u001b[39;00m(\u001b[38;5;124m'\u001b[39m\u001b[38;5;124mCannot delete attribute\u001b[39m\u001b[38;5;124m'\u001b[39m)\n",
      "\u001b[0;31mAttributeError\u001b[0m: Cannot delete attribute"
     ]
    }
   ],
   "source": [
    "class Dog:\n",
    "    def __init__(self):\n",
    "        self._name = None\n",
    "\n",
    "    @property               # @getter\n",
    "    def name(self):\n",
    "        return self._name\n",
    "\n",
    "    @name.setter            # @setter\n",
    "    def name(self, n):\n",
    "        self._name = n\n",
    "\n",
    "    @name.deleter           # @deleter\n",
    "    def name(self):\n",
    "        raise AttributeError('Cannot delete attribute')\n",
    "\n",
    "dog = Dog()\n",
    "print(dog.name)    # invoke @getter\n",
    "\n",
    "dog.name = 'Hark'  # invoke @setter\n",
    "print(dog.name)\n",
    "\n",
    "del dog.name       # invoke @deleter"
   ]
  },
  {
   "cell_type": "markdown",
   "id": "8c34f541-3c59-40bf-9381-4c36c9a8b829",
   "metadata": {},
   "source": [
    "### Descriptors(描述器)\n",
    "\n",
    "Descriptors are three methods `object.__get__()`, `object.__set__()`, `object.__delete__()` . \n",
    "\n",
    "The `class property()` is implemented as a data descriptor. "
   ]
  },
  {
   "cell_type": "markdown",
   "id": "dc4f79f8-b067-403d-b9b0-889acbb35a77",
   "metadata": {},
   "source": [
    "### copy\n",
    "\n",
    "Lib/copy.py"
   ]
  },
  {
   "cell_type": "code",
   "execution_count": 19,
   "id": "bd0fb148-46c0-4aac-8674-08e69f6f4d7e",
   "metadata": {},
   "outputs": [
    {
     "name": "stdout",
     "output_type": "stream",
     "text": [
      "<__main__.Class1 object at 0x15c5b42f0> <class '__main__.Class1'> 5844452080\n",
      "<__main__.Class2 object at 0x15c5b5940> <class '__main__.Class2'> 5844457792 5844452080\n",
      "<__main__.Class1 object at 0x108dfee40> <class '__main__.Class1'> 4443860544\n",
      "<__main__.Class2 object at 0x15c5b45c0> <class '__main__.Class2'> 5844452800 5844455296\n"
     ]
    }
   ],
   "source": [
    "import copy\n",
    "\n",
    "class Class1:\n",
    "    pass\n",
    "\n",
    "class Class2:\n",
    "    def __init__(self, class1):\n",
    "        self._class1 = class1\n",
    "\n",
    "c1 = Class1()\n",
    "c2 = Class2(c1)\n",
    "\n",
    "print(c1, type(c1), id(c1))\n",
    "print(c2, type(c2), id(c2), id(c2._class1))  # c2._class1 is c1, same id\n",
    "\n",
    "c3 = copy.copy(c1)\n",
    "c4 = copy.deepcopy(c2)\n",
    "\n",
    "print(c3, type(c3), id(c3))\n",
    "print(c4, type(c4), id(c4), id(c4._class1))"
   ]
  },
  {
   "cell_type": "markdown",
   "id": "1861564a-8ab7-40d3-81d7-e4fd9c106a22",
   "metadata": {},
   "source": [
    "### `super()`"
   ]
  },
  {
   "cell_type": "code",
   "execution_count": 59,
   "id": "c0556245-977b-4c25-b188-6ef9eada0f8a",
   "metadata": {},
   "outputs": [
    {
     "name": "stdout",
     "output_type": "stream",
     "text": [
      "draw from shape\n",
      "draw from circle\n"
     ]
    }
   ],
   "source": [
    "class Shape:\n",
    "    def draw(self):\n",
    "        print('draw from shape')\n",
    "\n",
    "class Circle(Shape):\n",
    "    def draw(self):\n",
    "        super().draw()\n",
    "        print('draw from circle')\n",
    "\n",
    "c = Circle()\n",
    "c.draw()"
   ]
  },
  {
   "cell_type": "code",
   "execution_count": null,
   "id": "88438f71-efe1-4331-a653-321083856f60",
   "metadata": {},
   "outputs": [],
   "source": [
    "### Singleton"
   ]
  },
  {
   "cell_type": "code",
   "execution_count": 14,
   "id": "2a0c1c5b-0a2f-4fd9-8ab1-830f9d6a7495",
   "metadata": {},
   "outputs": [
    {
     "name": "stdout",
     "output_type": "stream",
     "text": [
      "<__main__.Singleton object at 0x176c952d0>, <__main__.Singleton object at 0x176c952d0>, id(st1)=6287872720, id(st2)=6287872720\n"
     ]
    }
   ],
   "source": [
    "class SingletonCls():\n",
    "    _instance = None\n",
    "    def __new__(cls, *args, **kwargs):\n",
    "        if cls._instance is None:\n",
    "            cls._instance = super().__new__(cls, *args, **kwargs)\n",
    "        return cls._instance\n",
    "\n",
    "st1 = SingletonCls()\n",
    "st2 = SingletonCls()\n",
    "\n",
    "print(f'{st1}, {st2}, {id(st1)=}, {id(st2)=}')"
   ]
  },
  {
   "cell_type": "code",
   "execution_count": 28,
   "id": "74af4c70-b1a2-45f9-af84-0c2386739203",
   "metadata": {},
   "outputs": [
    {
     "name": "stdout",
     "output_type": "stream",
     "text": [
      " __init__ method called.\n",
      ">>>> <__main__.LazySingletonCls object at 0x177b20280>\n",
      " __init__ method called.\n",
      "ojbect created <__main__.LazySingletonCls object at 0x176de83a0>\n",
      ">>>> <__main__.LazySingletonCls object at 0x177b20280>\n",
      "Instance already reated:  <__main__.LazySingletonCls object at 0x176de83a0>\n",
      "<__main__.LazySingletonCls object at 0x177b22650>\n"
     ]
    }
   ],
   "source": [
    "class LazySingletonCls():\n",
    "    _instance = None\n",
    "    def __init__(self):\n",
    "        if LazySingletonCls._instance is None:\n",
    "            print(\" __init__ method called.\")\n",
    "        else:\n",
    "            print(\"Instance already reated: \", self.get_instance())\n",
    "\n",
    "    @classmethod\n",
    "    def get_instance(cls):\n",
    "        if cls._instance is None:\n",
    "            cls._instance = LazySingletonCls()\n",
    "        return cls._instance\n",
    "\n",
    "\n",
    "\n",
    "lst1 = LazySingletonCls()\n",
    "print(f\">>>> {lst1}\")\n",
    "print(\"ojbect created\", LazySingletonCls.get_instance())\n",
    "print(f\">>>> {lst1}\")\n",
    "lst2 = LazySingletonCls()\n",
    "print(lst2)"
   ]
  },
  {
   "cell_type": "markdown",
   "id": "52edfff4-ad19-4157-a411-0e9dc28c9798",
   "metadata": {},
   "source": [
    "### Modify object property"
   ]
  },
  {
   "cell_type": "code",
   "execution_count": 14,
   "id": "5d5b7061-c4cf-416f-b12a-abe16f8e6149",
   "metadata": {},
   "outputs": [
    {
     "name": "stdout",
     "output_type": "stream",
     "text": [
      "The hair is changed to RED.\n",
      "Hello, I am Tom, how are you?\n"
     ]
    }
   ],
   "source": [
    "# modify the object property\n",
    "Person.hair = \"RED\"\n",
    "print(f'The hair is changed to {Person.hair}.')\n",
    "\n",
    "p.name = \"Tom\"\n",
    "p.say_hi()"
   ]
  },
  {
   "cell_type": "markdown",
   "id": "d96f9a51-6d2f-465c-8fc9-1c6cc244c6e1",
   "metadata": {},
   "source": [
    "### Delete object property"
   ]
  },
  {
   "cell_type": "code",
   "execution_count": 15,
   "id": "a38ec618-f587-492e-8b72-a67f085d81a6",
   "metadata": {},
   "outputs": [],
   "source": [
    "del p.name"
   ]
  },
  {
   "cell_type": "code",
   "execution_count": 17,
   "id": "4bb5b2de-d6a3-4b0a-804b-10c6b18fc79e",
   "metadata": {
    "scrolled": true
   },
   "outputs": [
    {
     "ename": "AttributeError",
     "evalue": "'Person' object has no attribute 'name'",
     "output_type": "error",
     "traceback": [
      "\u001b[0;31m---------------------------------------------------------------------------\u001b[0m",
      "\u001b[0;31mAttributeError\u001b[0m                            Traceback (most recent call last)",
      "Cell \u001b[0;32mIn[17], line 2\u001b[0m\n\u001b[1;32m      1\u001b[0m \u001b[38;5;66;03m# It throws AttributeError after `del` the property.\u001b[39;00m\n\u001b[0;32m----> 2\u001b[0m \u001b[43mp\u001b[49m\u001b[38;5;241;43m.\u001b[39;49m\u001b[43mname\u001b[49m\n",
      "\u001b[0;31mAttributeError\u001b[0m: 'Person' object has no attribute 'name'"
     ]
    }
   ],
   "source": [
    "# It throws AttributeError after `del` the property.\n",
    "p.name"
   ]
  },
  {
   "cell_type": "markdown",
   "id": "74a19000-a8bb-423c-a14e-8036cbe6cbbd",
   "metadata": {},
   "source": [
    "## Packages and modules\n",
    "\n",
    "https://docs.python.org/3.12/tutorial/modules.html\n",
    "\n",
    "A module is a file containing Python definitions and statements.\n",
    "A module can contain executable statements as well as function definitions. \n",
    "\n",
    "\n",
    "\n",
    "When a module named spam is imported, \n",
    "    1. the interpreter first searches for a built-in module with that name. These module names are listed in `sys.builtin_module_names`. \n",
    "    2. If not found, it then searches for a file named spam.py in a list of directories given by the variable `sys.path`. \n",
    "        a. `sys.path` is initialized from these locations:\n",
    "            1. The directory containing the input script (or the current directory when no file is specified).\n",
    "            2. `PYTHONPATH` (a list of directory names, with the same syntax as the shell variable PATH).\n",
    "            3. The installation-dependent default (by convention including a site-packages directory, handled by the site module).\n",
    "\n",
    "`PYTHONPATH` should be pointing a directory containing the package/modules directory. "
   ]
  },
  {
   "cell_type": "markdown",
   "id": "83636d6e-c93e-4d28-9677-55aa679fe4e5",
   "metadata": {},
   "source": [
    "There's a `module_demo.py` and `import_demo.py`\n",
    "\n",
    "`module_demo.py`\n",
    "```\n",
    "test_data = 7\n",
    "```\n",
    "\n",
    "\n",
    "`import_demo.py`\n",
    "```python\n",
    "import module_demo\n",
    "\n",
    "# the initial value of test_data is 7\n",
    "print(f'the initial value of test_data is {module_demo.test_data}')\n",
    "print(f'set the value to 9')\n",
    "module_demo.test_data = 9\n",
    "print(f'the value of test_data is {module_demo.test_data}')\n",
    "print()\n",
    "\n",
    "print(\"\"\"run the import statement again\n",
    "it will not reload the module since it was already imported\"\"\")\n",
    "import module_demo\n",
    "print(f'the value of test_data is still {module_demo.test_data}')\n",
    "print()\n",
    "\n",
    "print(\"use the `importlib.reload` function to reload the module\")\n",
    "from importlib import reload\n",
    "reload(module_demo)\n",
    "print(f'the value of test_data is re-initialized to {module_demo.test_data}')\n",
    "print()\n",
    "\n",
    "print(f\"{type(module_demo)}\")\n",
    "\n",
    "```\n",
    "\n",
    "Outputs are below\n",
    "```\n",
    "the initial value of test_data is 7\n",
    "set the value to 9\n",
    "the value of test_data is 9\n",
    "\n",
    "run the import statement again\n",
    "it will not reload the module since it was already imported\n",
    "the value of test_data is still 9\n",
    "\n",
    "use the `importlib.reload` function to reload the module\n",
    "the value of test_data is re-initialized to 7\n",
    "\n",
    "<class 'module'>\n",
    "```"
   ]
  },
  {
   "cell_type": "markdown",
   "id": "88bbdac1-13de-48b3-a40c-d234b34fee15",
   "metadata": {},
   "source": [
    "Here's a demo for `import`\n",
    "\n",
    "Here's the directory.\n",
    "\n",
    "```\n",
    "package_demo\n",
    "  - __init__.py\n",
    "  - main.py\n",
    "  - main2.py\n",
    "  package\n",
    "    - __init__.py\n",
    "    - module1.py\n",
    "    - module2.py\n",
    "    - module3.py  \n",
    "```\n",
    "\n",
    "`package/__init__.py`\n",
    "```\n",
    "__all__ = ['module1', 'module2']\n",
    "```\n",
    "\n",
    "`package/module1.py`\n",
    "```\n",
    "__all__ = ['A', 'B', 'C']\n",
    "\n",
    "\n",
    "class A(object):\n",
    "    pass\n",
    "\n",
    "\n",
    "class B(object):\n",
    "    pass\n",
    "\n",
    "\n",
    "class C(object):\n",
    "    pass\n",
    "\n",
    "\n",
    "class D(object):\n",
    "    pass\n",
    "\n",
    "```\n",
    "\n",
    "`package/module2.py`\n",
    "```\n",
    "__all__ = ['E', 'F']\n",
    "\n",
    "\n",
    "class E(object):\n",
    "    pass\n",
    "\n",
    "\n",
    "class F(object):\n",
    "    pass\n",
    "\n",
    "\n",
    "class G(object):\n",
    "    pass\n",
    "\n",
    "```\n",
    "\n",
    "`package/module3.py`\n",
    "```\n",
    "class H(object):\n",
    "    pass\n",
    "\n",
    "```\n",
    "\n",
    "\n",
    "`main.py`\n",
    "```\n",
    "from package import *\n",
    "\n",
    "print(locals())\n",
    "\n",
    "for k,v in locals().copy().items():\n",
    "    if k.startswith(\"module\"):\n",
    "        print(f\"{k} -> {v}\")\n",
    "\n",
    "```\n",
    "\n",
    "\n",
    "`main2.py`\n",
    "```\n",
    "from package.module1 import *\n",
    "\n",
    "print(locals())\n",
    "\n",
    "for k,v in locals().copy().items():\n",
    "    print(f\"{k} -> {v}\")\n",
    "\n",
    "```\n",
    "output:\n",
    "```\n",
    "{'__name__': '__main__', '__doc__': None, '__package__': None, '__loader__': <_frozen_importlib_external.SourceFileLoader object at 0x1045646b0>, '__spec__': None, '__annotations__': {}, '__builtins__': <module 'builtins' (built-in)>, '__file__': '/Users/pete/ws/github/demos/python-demos/demos/package_demo/main2.py', '__cached__': None, 'A': <class 'package.module1.A'>, 'B': <class 'package.module1.B'>, 'C': <class 'package.module1.C'>}\n",
    "__name__ -> __main__\n",
    "__doc__ -> None\n",
    "__package__ -> None\n",
    "__loader__ -> <_frozen_importlib_external.SourceFileLoader object at 0x1045646b0>\n",
    "__spec__ -> None\n",
    "__annotations__ -> {}\n",
    "__builtins__ -> <module 'builtins' (built-in)>\n",
    "__file__ -> /Users/pete/ws/github/demos/python-demos/demos/package_demo/main2.py\n",
    "__cached__ -> None\n",
    "A -> <class 'package.module1.A'>\n",
    "B -> <class 'package.module1.B'>\n",
    "C -> <class 'package.module1.C'>\n",
    "```"
   ]
  },
  {
   "cell_type": "markdown",
   "id": "07d6a811-b12f-4c79-92fe-c0a6db7ce785",
   "metadata": {},
   "source": [
    "## Built-in functions"
   ]
  },
  {
   "cell_type": "markdown",
   "id": "4490e136-48e6-4dbe-914d-e4d63fe33d78",
   "metadata": {},
   "source": [
    "### `abs()`"
   ]
  },
  {
   "cell_type": "markdown",
   "id": "f8d0cb48-32cf-40e1-a2c0-42dc43f198b4",
   "metadata": {},
   "source": [
    "### `format() -> str`"
   ]
  },
  {
   "cell_type": "markdown",
   "id": "1761c5ee-dcd0-42b6-a74d-674c7141fec1",
   "metadata": {},
   "source": [
    "### `sorted() -> list`"
   ]
  },
  {
   "cell_type": "code",
   "execution_count": 323,
   "id": "5c639e0a-a347-42fd-84b6-2b9e2638f273",
   "metadata": {},
   "outputs": [
    {
     "name": "stdout",
     "output_type": "stream",
     "text": [
      "type- <class 'list'>, !r- [-4, -3, -1, 2, 5], !s- [-4, -3, -1, 2, 5]\n",
      "type- <class 'list'>, !r- [-1, 2, -3, -4, 5], !s- [-1, 2, -3, -4, 5]\n",
      "type- <class 'list'>, !r- [-1, 2, -3, -4, 5], !s- [-1, 2, -3, -4, 5]\n"
     ]
    }
   ],
   "source": [
    "l = [-1, -4, 2, 5, -3]\n",
    "\n",
    "pwrite(sorted(l))\n",
    "\n",
    "# sort the list by the absolute value\n",
    "sl = sorted(l, key=abs)\n",
    "pwrite(sl)\n",
    "\n",
    "# 一个繁琐的方式\n",
    "sl2 = [x[1] for x in sorted([(abs(x), x) for x in l])]\n",
    "pwrite(sl2)"
   ]
  },
  {
   "cell_type": "markdown",
   "id": "2b02ee1c-2eb1-4f99-aa4a-e6e0ffd482a5",
   "metadata": {},
   "source": [
    "### `max()` and `min()`"
   ]
  },
  {
   "cell_type": "code",
   "execution_count": 179,
   "id": "c62a1274-8170-4053-82d3-e23cd65e1f06",
   "metadata": {},
   "outputs": [
    {
     "name": "stdout",
     "output_type": "stream",
     "text": [
      "max(l1)=6, max(l2)=92\n",
      "min(l1)=1, min(l2)=6\n",
      "\n",
      "max(l1, l2)=[6, 9, 10, 92, 78]\n",
      "min(l1, l2)=[1, 2, 3, 4, 6]\n",
      "\n",
      "map(max, l1, l2)=<map object at 0x13044f3a0>\n",
      "map(max, [l1, l2])=<map object at 0x14c5dcf70>\n",
      "\n",
      "list(map(max, l1, l2))=[6, 9, 10, 92, 78]\n",
      "list(map(max, [l1, l2]))=[6, 92]\n",
      "\n",
      "list(map(min, l1, l2))=[1, 2, 3, 4, 6]\n",
      "list(map(min, [l1, l2]))=[1, 6]\n",
      "\n"
     ]
    }
   ],
   "source": [
    "l1 = [1, 2, 3, 4, 6]\n",
    "l2 = [6, 9, 10, 92, 78]\n",
    "\n",
    "print(f'{max(l1)=}, {max(l2)=}')\n",
    "print(f'{min(l1)=}, {min(l2)=}')\n",
    "print()\n",
    "\n",
    "print(f'{max(l1, l2)=}')\n",
    "print(f'{min(l1, l2)=}')\n",
    "print()\n"
   ]
  },
  {
   "cell_type": "markdown",
   "id": "576c28fc-f51c-452a-a4c6-2e0ef10f5be5",
   "metadata": {},
   "source": [
    "### `map() -> iterator` and `filter() -> iterator`"
   ]
  },
  {
   "cell_type": "code",
   "execution_count": 181,
   "id": "c324d82b-9142-4bdf-b3bf-728895d9e5dc",
   "metadata": {},
   "outputs": [
    {
     "name": "stdout",
     "output_type": "stream",
     "text": [
      "map(max, l1, l2)=<map object at 0x13056f3d0>\n",
      "map(max, [l1, l2])=<map object at 0x13056cee0>\n",
      "\n",
      "list(map(max, l1, l2))=[6, 9, 10, 92, 78]\n",
      "list(map(max, [l1, l2]))=[6, 92]\n",
      "\n",
      "list(map(min, l1, l2))=[1, 2, 3, 4, 6]\n",
      "list(map(min, [l1, l2]))=[1, 6]\n",
      "\n"
     ]
    }
   ],
   "source": [
    "l1 = [1, 2, 3, 4, 6]\n",
    "l2 = [6, 9, 10, 92, 78]\n",
    "\n",
    "print(f'{map(max, l1, l2)=}')\n",
    "print(f'{map(max, [l1, l2])=}')\n",
    "print()\n",
    "\n",
    "print(f'{list(map(max, l1, l2))=}')\n",
    "print(f'{list(map(max, [l1, l2]))=}')\n",
    "print()\n",
    "\n",
    "print(f'{list(map(min, l1, l2))=}')\n",
    "print(f'{list(map(min, [l1, l2]))=}')\n",
    "print()"
   ]
  },
  {
   "cell_type": "markdown",
   "id": "90988baf-f9b8-4b71-b8ee-f8d502a2e2e5",
   "metadata": {},
   "source": [
    "### `reversed() -> iterator`"
   ]
  },
  {
   "cell_type": "markdown",
   "id": "a26ebf2f-9797-4f18-a4de-582e3505a444",
   "metadata": {},
   "source": [
    "### `zip() -> iterator`"
   ]
  },
  {
   "cell_type": "markdown",
   "id": "d712aa89-ddfa-4182-8a4d-de3f4b056044",
   "metadata": {},
   "source": [
    "### `property()` and `hasattr(), getattr(), setattr()`"
   ]
  },
  {
   "cell_type": "code",
   "execution_count": 55,
   "id": "f52c8ae4-3973-4443-8fd9-c2c987a53cf5",
   "metadata": {},
   "outputs": [
    {
     "name": "stdout",
     "output_type": "stream",
     "text": [
      "None\n",
      "3, True, 3\n",
      "55, True, 55\n",
      "I'am the 'x' property.\n",
      "\n",
      "int([x]) -> integer\n",
      "int(x, base=10) -> integer\n",
      "\n",
      "Convert a number or string to an integer, or return 0 if no arguments\n",
      "are given.  If x is a number, return x.__int__().  For floating point\n",
      "numbers, this truncates towards zero.\n",
      "\n",
      "If x is not a number or if base is given, then x must be a string,\n",
      "bytes, or bytearray instance representing an integer literal in the\n",
      "given base.  The literal can be preceded by '+' or '-' and be surrounded\n",
      "by whitespace.  The base defaults to 10.  Valid bases are 0 and 2-36.\n",
      "Base 0 means to interpret the base from the string as an integer literal.\n",
      ">>> int('0b100', base=0)\n",
      "4\n"
     ]
    },
    {
     "data": {
      "text/plain": [
       "55"
      ]
     },
     "execution_count": 55,
     "metadata": {},
     "output_type": "execute_result"
    }
   ],
   "source": [
    "class C(object):\n",
    "    \"\"\"a class for `property()`\"\"\"\n",
    "    def __init__(self):\n",
    "        self._x = None\n",
    "    \n",
    "    def getx(self):\n",
    "        return self._x\n",
    "\n",
    "    def setx(self, value):\n",
    "        self._x = value\n",
    "\n",
    "    def delx(self):\n",
    "        del sefl._x\n",
    "    x = property(fget=getx, fset=setx, fdel=delx, doc=\"I'am the 'x' property.\")\n",
    "\n",
    "c = C()\n",
    "print(c.x)\n",
    "c.x = 3\n",
    "print(f'{c.x}, {hasattr(c, \"x\")}, {getattr(c, \"x\")}')\n",
    "setattr(c, \"x\", 55)\n",
    "print(f'{c.x}, {hasattr(c, \"x\")}, {getattr(c, \"x\")}')\n",
    "print(C.x.__doc__)\n",
    "print()\n",
    "\n",
    "print(c.x.__doc__)\n",
    "\n",
    "getattr(c, 'x')"
   ]
  },
  {
   "cell_type": "markdown",
   "id": "280334b6-d747-4809-99e5-5c2d13f38a45",
   "metadata": {},
   "source": [
    "## Built-in types"
   ]
  },
  {
   "cell_type": "markdown",
   "id": "051639f5-701a-4eab-bb22-07d694ace984",
   "metadata": {},
   "source": [
    "### `class range`\n",
    "\n",
    "The `range` type represents an immutable sequence of numbers.\n",
    "It will always take the same(small) amount of memory, no matter the size of the range it represents."
   ]
  },
  {
   "cell_type": "code",
   "execution_count": 37,
   "id": "f6ee0e73-e31e-4384-9035-2659704cf283",
   "metadata": {},
   "outputs": [
    {
     "name": "stdout",
     "output_type": "stream",
     "text": [
      "range(0, 5) <class 'range'> 5860890480\n",
      "range(0, 1000) <class 'range'> 5860889856\n",
      "48\n",
      "48\n",
      "104\n",
      "8056\n"
     ]
    }
   ],
   "source": [
    "import sys\n",
    "\n",
    "a = range(5)\n",
    "b = range(1000)\n",
    "\n",
    "print(a, type(a), id(a))\n",
    "print(b, type(b), id(b))\n",
    "\n",
    "print(sys.getsizeof(a))\n",
    "print(sys.getsizeof(b)) # should be same\n",
    "\n",
    "print(sys.getsizeof(list(a)))\n",
    "print(sys.getsizeof(list(b)))  # they are different"
   ]
  },
  {
   "cell_type": "markdown",
   "id": "224986d5-dfb0-420a-bb52-2dccff847457",
   "metadata": {},
   "source": [
    "### `class list`"
   ]
  },
  {
   "cell_type": "markdown",
   "id": "e292e0a8-81be-42bc-bb4f-bc87e91b21d9",
   "metadata": {},
   "source": [
    "#### immutable operations\n",
    "\n",
    "`list.sort()`  This method sorts the list in place"
   ]
  },
  {
   "cell_type": "code",
   "execution_count": 152,
   "id": "32d7465d-eaf5-47f7-9c4e-9a44487b9d50",
   "metadata": {},
   "outputs": [
    {
     "name": "stdout",
     "output_type": "stream",
     "text": [
      "[1, 2, 3, 2, 1], <class 'list'>, 5, 6107052480\n",
      "s=[1, 2, 3, 2, 1], type(s)=<class 'list'>, len(s)=5, min(s)=1, max(s)=3, id(s)=6107052480\n",
      "True False\n",
      "False True\n",
      "s + t = [1, 2, 3, 2, 1, '1', '2', '3', '2']\n",
      "s * 3 = [1, 2, 3, 2, 1, 1, 2, 3, 2, 1, 1, 2, 3, 2, 1], 2 * t = ['1', '2', '3', '2', '1', '2', '3', '2']\n",
      "1 .. 2 .. 3 .. 2 .. 1 .. \n",
      "s[1:3]=[2, 3]\n",
      "s[0:len(s):2]=[1, 3, 1]\n",
      "s.index(2)=1, s.count(2)=2\n"
     ]
    }
   ],
   "source": [
    "\n",
    "s = [1, 2, 3, 2, 1]\n",
    "print(f'{s}, {type(s)}, {len(s)}, {id(s)}')\n",
    "print(f'{s=}, {type(s)=}, {len(s)=}, {min(s)=}, {max(s)=}, {id(s)=}')\n",
    "\n",
    "x = 1\n",
    "print(x in s, x not in s)\n",
    "\n",
    "x = '1'\n",
    "print(x in s, x not in s)\n",
    "\n",
    "\n",
    "t = ['1', '2', '3', '2']\n",
    "print(f'{s + t = }')                 # the concatenation of s and t\n",
    "print(f'{s * 3 = }, {2 * t = }')     # adding s to itself 3 times, adding t to itself 2 times\n",
    "\n",
    "\n",
    "for i in range(len(s)):\n",
    "    print(s[i], end=' .. ')          # ith item of s\n",
    "print()\n",
    "\n",
    "\n",
    "print(f'{s[1:3]=}')                  # slice of s from 1 to 3\n",
    "print(f'{s[0:len(s):2]=}')           # slice of s from 0 to len(s) with step 2\n",
    "\n",
    "\n",
    "print(f'{s.index(2)=}, {s.count(2)=}')"
   ]
  },
  {
   "cell_type": "markdown",
   "id": "6c4d3297-52c7-40b6-a4c0-18826fb4661c",
   "metadata": {},
   "source": [
    "#### Mutable operations"
   ]
  },
  {
   "cell_type": "code",
   "execution_count": 155,
   "id": "76c89610-ecab-4bd6-8ea1-359f343bf702",
   "metadata": {},
   "outputs": [
    {
     "name": "stdout",
     "output_type": "stream",
     "text": [
      "s[4]=3\n",
      "s[4]='a'\n",
      "s=[1, 3, 5, 4, 'a', 2, 1]\n",
      "s=[1, 3, 5, 4, 'a', 't', 1]\n",
      "s=[1, 3, 5, 4, 'a', 't', 1]\n",
      "s=[1, 3, 5, 4, 'a', 'h', 'w', 1]\n",
      "s=[1, 3, 5, 4, 'a', 'h', 'w', 1]\n",
      "s=[1, 3, 5, 4, 'a', 'z', 1]\n"
     ]
    }
   ],
   "source": [
    "s = [1, 3, 5, 4, 3, 2, 1]\n",
    "\n",
    "print(f'{s[4]=}')\n",
    "s[4] = 'a'              # item i of s is replaced by 'a'\n",
    "print(f'{s[4]=}')\n",
    "\n",
    "\n",
    "t = ['t']\n",
    "print(f'{s=}')\n",
    "s[5:6] = t              # slice of s from 5 to 6 is is replaced by the contents of the t\n",
    "print(f'{s=}')\n",
    "\n",
    "t = ['h', 'w']\n",
    "print(f'{s=}')\n",
    "s[5:6] = t              # slice of s from 5 to 6 is is replaced by the contents of the t\n",
    "print(f'{s=}')\n",
    "\n",
    "t = ['z']\n",
    "print(f'{s=}')\n",
    "s[5:7] = t              # slice of s from 5 to 6 is is replaced by the contents of the t\n",
    "print(f'{s=}')"
   ]
  },
  {
   "cell_type": "code",
   "execution_count": 157,
   "id": "8c628a03-2e28-4c24-a60b-155c4fe49243",
   "metadata": {},
   "outputs": [
    {
     "name": "stdout",
     "output_type": "stream",
     "text": [
      "s=[1, 3, 5, 4, 'a', 'z', 1]\n",
      "s=[1, 3, 5, 4, 'a']\n",
      "s=[3, 5, 'a']\n",
      "s=[3, 5, 'a', 'rr']\n"
     ]
    }
   ],
   "source": [
    "print(f'{s=}')\n",
    "del s[5:7]              # remove the elements of s[5:7]\n",
    "print(f'{s=}')\n",
    "\n",
    "del s[0:8:3]            # remove the elements of s[0:8:3]\n",
    "print(f'{s=}')\n",
    "\n",
    "s.append('rr')          # appends 'rr' to the end of the sequence s\n",
    "print(f'{s=}')"
   ]
  },
  {
   "cell_type": "code",
   "execution_count": 159,
   "id": "bb851c7c-5b9b-4c67-9bd3-4b0ebe6f135a",
   "metadata": {},
   "outputs": [
    {
     "name": "stdout",
     "output_type": "stream",
     "text": [
      "s1=[3, 5, 'a', 'rr']\n",
      "s=[3, 5, 'a', 'rr', 'ww', 'ee', 'rr']\n",
      "s=[3, 5, 'a', 'rr', 'ww', 'ee', 'rr', 'ww', 'ee', 'rr']\n",
      "t=['ww', 'ee', 'rr']\n",
      "t=['ww', 'ee', 'rr', 'ww', 'ee', 'rr']\n"
     ]
    }
   ],
   "source": [
    "s1 = s.copy()           # creates a shallow copy of s\n",
    "print(f'{s1=}')\n",
    "\n",
    "t = ['ww', 'ee', 'rr']\n",
    "s += t                  # extends s with the contents of t \n",
    "print(f'{s=}')\n",
    "s.extend(t)             # extends s with the contents of t \n",
    "print(f'{s=}')\n",
    "\n",
    "\n",
    "print(f'{t=}')\n",
    "t *= 2                  # updates s with its contents repeated 2 times\n",
    "print(f'{t=}')"
   ]
  },
  {
   "cell_type": "code",
   "execution_count": 161,
   "id": "72785035-5268-4c61-9336-c6a4564a3b6c",
   "metadata": {},
   "outputs": [
    {
     "name": "stdout",
     "output_type": "stream",
     "text": [
      "s=[3, 5, 'a', 'rr', 'ww', 'ee', 'rr', 'ww', 'ee', 'rr']\n",
      "s=[3, 5, 'a', 'e33', 'rr', 'ww', 'ee', 'rr', 'ww', 'ee', 'rr']\n"
     ]
    }
   ],
   "source": [
    "print(f'{s=}')\n",
    "s.insert(3, 'e33')      # inserts 'e33' into s at the index 3\n",
    "print(f'{s=}')"
   ]
  },
  {
   "cell_type": "code",
   "execution_count": 163,
   "id": "882b522e-e625-4b04-a6c2-23e74cfc0c3f",
   "metadata": {},
   "outputs": [
    {
     "name": "stdout",
     "output_type": "stream",
     "text": [
      "x='rr', s=[3, 5, 'a', 'e33', 'rr', 'ww', 'ee', 'rr', 'ww', 'ee']\n",
      "x='ee', s=[3, 5, 'a', 'e33', 'rr', 'ww', 'ee', 'rr', 'ww']\n",
      "x='ww', s=[3, 5, 'a', 'e33', 'rr', 'ww', 'ee', 'rr']\n",
      "x=5, s=[3, 'a', 'e33', 'rr', 'ww', 'ee', 'rr']\n",
      "x='a', s=[3, 'e33', 'rr', 'ww', 'ee', 'rr']\n",
      "s=[3, 'e33', 'ww', 'ee', 'rr']\n"
     ]
    }
   ],
   "source": [
    "x = s.pop()             # retrieve the last item and also removes it from s\n",
    "print(f'{x=}, {s=}')\n",
    "x = s.pop()             # retrieve the last item and also removes it from s\n",
    "print(f'{x=}, {s=}')\n",
    "x = s.pop()             # retrieve the last item and also removes it from s\n",
    "print(f'{x=}, {s=}')\n",
    "x = s.pop(1)            # retrieve the item at the index 1 and also removes it from s\n",
    "print(f'{x=}, {s=}')\n",
    "x = s.pop(1)            # retrieve the item at the index 1 and also removes it from s\n",
    "print(f'{x=}, {s=}')\n",
    "\n",
    "s.remove('rr')          # removes the first item from s when s[i] is equals to 'rr'\n",
    "print(f'{s=}')"
   ]
  },
  {
   "cell_type": "code",
   "execution_count": 165,
   "id": "4410512a-69d3-4f70-ae6d-8706a084ed84",
   "metadata": {},
   "outputs": [
    {
     "name": "stdout",
     "output_type": "stream",
     "text": [
      "s=['rr', 'ee', 'ww', 'e33', 3]\n",
      "s=[]\n"
     ]
    }
   ],
   "source": [
    "s.reverse()             # reverses the items of s in place\n",
    "print(f'{s=}')\n",
    "\n",
    "s.clear()               # removes all items from s\n",
    "print(f'{s=}')"
   ]
  },
  {
   "cell_type": "code",
   "execution_count": 167,
   "id": "ce33e10d-358b-4e61-a8b6-6fd52ad76e89",
   "metadata": {},
   "outputs": [
    {
     "name": "stdout",
     "output_type": "stream",
     "text": [
      "s=[1, 3, 5, 4, 3, 2, 1]\n",
      "s=['z', 3, 'z', 4, 'c', 2, 'd']\n",
      "Unexpected exception formatting exception. Falling back to standard exception\n"
     ]
    },
    {
     "name": "stderr",
     "output_type": "stream",
     "text": [
      "Traceback (most recent call last):\n",
      "  File \"/opt/anaconda3/lib/python3.12/site-packages/IPython/core/interactiveshell.py\", line 3577, in run_code\n",
      "  File \"/var/folders/00/4pjxjnf94d9fv9nfrgpnbww40000gn/T/ipykernel_39939/2537765950.py\", line 7, in <module>\n",
      "    s[0:8:3] = t # it throws ValueError: attempt to assign sequence of size 4 to extended slice of size 3\n",
      "    ~^^^^^^^\n",
      "ValueError: attempt to assign sequence of size 4 to extended slice of size 3\n",
      "\n",
      "During handling of the above exception, another exception occurred:\n",
      "\n",
      "Traceback (most recent call last):\n",
      "  File \"/opt/anaconda3/lib/python3.12/site-packages/pygments/styles/__init__.py\", line 89, in get_style_by_name\n",
      "ModuleNotFoundError: No module named 'pygments.styles.default'\n",
      "\n",
      "During handling of the above exception, another exception occurred:\n",
      "\n",
      "Traceback (most recent call last):\n",
      "  File \"/opt/anaconda3/lib/python3.12/site-packages/IPython/core/interactiveshell.py\", line 2168, in showtraceback\n",
      "  File \"/opt/anaconda3/lib/python3.12/site-packages/IPython/core/ultratb.py\", line 1457, in structured_traceback\n",
      "  File \"/opt/anaconda3/lib/python3.12/site-packages/IPython/core/ultratb.py\", line 1348, in structured_traceback\n",
      "  File \"/opt/anaconda3/lib/python3.12/site-packages/IPython/core/ultratb.py\", line 1195, in structured_traceback\n",
      "  File \"/opt/anaconda3/lib/python3.12/site-packages/IPython/core/ultratb.py\", line 1085, in format_exception_as_a_whole\n",
      "  File \"/opt/anaconda3/lib/python3.12/site-packages/IPython/core/ultratb.py\", line 1136, in get_records\n",
      "  File \"/opt/anaconda3/lib/python3.12/site-packages/pygments/styles/__init__.py\", line 91, in get_style_by_name\n",
      "pygments.util.ClassNotFound: Could not find style module 'default', though it should be builtin.\n"
     ]
    }
   ],
   "source": [
    "s = [1, 3, 5, 4, 3, 2, 1]\n",
    "t = ['z', 'z', 'c', 'd']\n",
    "print(f'{s=}')\n",
    "s[0:8:2] = t\n",
    "print(f'{s=}')\n",
    "\n",
    "s[0:8:3] = t # it throws ValueError: attempt to assign sequence of size 4 to extended slice of size 3"
   ]
  },
  {
   "cell_type": "markdown",
   "id": "f2b097d3-d982-49f5-8219-58f85f422975",
   "metadata": {},
   "source": [
    "### `class dict`\n",
    "\n",
    "|数据类型\t|可作为字典键？\t|备注|\n",
    "| ---- | ---- | ---- |\n",
    "|int、float、str\t|✅ 可以\t|最常见的键类型 |\n",
    "|tuple（仅包含不可变对象）|\t✅ 可以\t|但不能包含 list |\n",
    "|frozenset\t|✅ 可以\t|set 的不可变版本 |\n",
    "|bool\t|✅ 可以\t|True 和 False 视为 1 和 0|\n",
    "|None\t|✅ 可以\t|也是不可变对象|\n",
    "|tuple（包含可变对象，如 list）|\t❌ 不可以\t| |\n",
    "|list、dict、set\t|❌ 不可以\t|可变，不可哈希|"
   ]
  },
  {
   "cell_type": "markdown",
   "id": "5497772b-e1b9-45de-897c-f59bdede62b7",
   "metadata": {},
   "source": [
    "|method | comment    |\n",
    "| ---- | ---- |\n",
    "| `classmethod fromkeys()` | |\n",
    "|  | |\n",
    "| `iter(d)` | |\n",
    "|`list(d)` | |\n",
    "| `d.keys()` | |\n",
    "| `d.values()` | |\n",
    "| `d.items()` | |\n",
    "| | |\n",
    "|`len(d)` | |\n",
    "| `d.copy()` | |\n",
    "| `d.clear()` | |\n",
    "| | |\n",
    "| `key in d` | |\n",
    "| `key not in d` | |\n",
    "| | |\n",
    "| `d[key]` | |\n",
    "| `d.get(key)` | |\n",
    "| | |\n",
    "| `d.setdefault(key, default=None)` | |\n",
    "| `d[key]=value` | |\n",
    "| | |\n",
    "| `del d[key]` | |\n",
    "| `d.pop(key)` | |\n",
    "| `d.popitem()` | | \n",
    "| | |\n",
    "| `d.update(other)`| |\n",
    "| `d \\| other` | |\n",
    "| `d \\|= other` | |"
   ]
  },
  {
   "cell_type": "markdown",
   "id": "a17c3f4e-0ca7-4bcb-ad41-dda13e8d9da3",
   "metadata": {},
   "source": [
    "### `class slice`"
   ]
  },
  {
   "cell_type": "code",
   "execution_count": 161,
   "id": "3f786969-05c9-4aa3-b898-6be39613132e",
   "metadata": {},
   "outputs": [
    {
     "name": "stdout",
     "output_type": "stream",
     "text": [
      "type- <class 'slice'>, !r- slice(None, 4, None), !s- slice(None, 4, None)\n",
      "d=['a', 'b', '1', '2', 3, 4, 5, 6], d[:4]=['a', 'b', '1', '2'], d[sl]=['a', 'b', '1', '2']\n"
     ]
    }
   ],
   "source": [
    "sl = slice(4)\n",
    "pwrite(sl)\n",
    "\n",
    "d = ['a', 'b', '1', '2', 3, 4, 5, 6]\n",
    "print(f'{d=}, {d[:4]=}, {d[sl]=}')"
   ]
  },
  {
   "cell_type": "markdown",
   "id": "db541468-d971-434c-a5ba-0d4e38bce1bf",
   "metadata": {},
   "source": [
    "## Built-in libs"
   ]
  },
  {
   "cell_type": "markdown",
   "id": "ab2e6250-4c84-46e3-af5d-91b1349083b8",
   "metadata": {},
   "source": [
    "### `sys`"
   ]
  },
  {
   "cell_type": "markdown",
   "id": "7e7714ac-8859-4d7c-a1d9-58bc7267bdaf",
   "metadata": {},
   "source": [
    "#### `sys.excepthook()`"
   ]
  },
  {
   "cell_type": "code",
   "execution_count": 267,
   "id": "31415d90-66b2-49d3-8dbc-4e1841040c4c",
   "metadata": {},
   "outputs": [
    {
     "ename": "ValueError",
     "evalue": "This is a test exception",
     "output_type": "error",
     "traceback": [
      "\u001b[0;31m---------------------------------------------------------------------------\u001b[0m",
      "\u001b[0;31mValueError\u001b[0m                                Traceback (most recent call last)",
      "Cell \u001b[0;32mIn[267], line 24\u001b[0m\n\u001b[1;32m     20\u001b[0m     pdb\u001b[38;5;241m.\u001b[39mpm()\n\u001b[1;32m     22\u001b[0m sys\u001b[38;5;241m.\u001b[39mexcepthook \u001b[38;5;241m=\u001b[39m debug\n\u001b[0;32m---> 24\u001b[0m \u001b[38;5;28;01mraise\u001b[39;00m \u001b[38;5;167;01mValueError\u001b[39;00m(\u001b[38;5;124m\"\u001b[39m\u001b[38;5;124mThis is a test exception\u001b[39m\u001b[38;5;124m\"\u001b[39m)\n",
      "\u001b[0;31mValueError\u001b[0m: This is a test exception"
     ]
    }
   ],
   "source": [
    "import sys\n",
    "import logging\n",
    "import traceback\n",
    "\n",
    "def debug(exc_type, exc_value, exc_traceback):\n",
    "    # Do not print exception when user cancels the program\n",
    "    if issubclass(exc_type, KeyboardInterrupt):\n",
    "        sys.__excepthook__(exc_type, exc_value, exc_traceback)\n",
    "        return\n",
    "\n",
    "    logging.error(\"An uncaught exception occurred:\")\n",
    "    logging.error(\"Type: %s\", exc_type)\n",
    "    logging.error(\"Value: %s\", exc_value)\n",
    "\n",
    "    if exc_traceback:\n",
    "        format_exception = traceback.format_tb(exc_traceback)\n",
    "        for line in format_exception:\n",
    "            logging.error(line)\n",
    "    import pdb\n",
    "    pdb.pm()\n",
    "\n",
    "sys.excepthook = debug\n",
    "\n",
    "raise ValueError(\"This is a test exception\")\n"
   ]
  },
  {
   "cell_type": "code",
   "execution_count": 269,
   "id": "2d447a3e-e2c3-4330-882e-e54ca369f4ff",
   "metadata": {},
   "outputs": [
    {
     "name": "stdout",
     "output_type": "stream",
     "text": [
      "> \u001b[0;32m/var/folders/00/4pjxjnf94d9fv9nfrgpnbww40000gn/T/ipykernel_93364/15079082.py\u001b[0m(24)\u001b[0;36m<module>\u001b[0;34m()\u001b[0m\n",
      "\u001b[0;32m     20 \u001b[0;31m    \u001b[0mpdb\u001b[0m\u001b[0;34m.\u001b[0m\u001b[0mpm\u001b[0m\u001b[0;34m(\u001b[0m\u001b[0;34m)\u001b[0m\u001b[0;34m\u001b[0m\u001b[0;34m\u001b[0m\u001b[0m\n",
      "\u001b[0m\u001b[0;32m     21 \u001b[0;31m\u001b[0;34m\u001b[0m\u001b[0m\n",
      "\u001b[0m\u001b[0;32m     22 \u001b[0;31m\u001b[0msys\u001b[0m\u001b[0;34m.\u001b[0m\u001b[0mexcepthook\u001b[0m \u001b[0;34m=\u001b[0m \u001b[0mdebug\u001b[0m\u001b[0;34m\u001b[0m\u001b[0;34m\u001b[0m\u001b[0m\n",
      "\u001b[0m\u001b[0;32m     23 \u001b[0;31m\u001b[0;34m\u001b[0m\u001b[0m\n",
      "\u001b[0m\u001b[0;32m---> 24 \u001b[0;31m\u001b[0;32mraise\u001b[0m \u001b[0mValueError\u001b[0m\u001b[0;34m(\u001b[0m\u001b[0;34m\"This is a test exception\"\u001b[0m\u001b[0;34m)\u001b[0m\u001b[0;34m\u001b[0m\u001b[0;34m\u001b[0m\u001b[0m\n",
      "\u001b[0m\n"
     ]
    },
    {
     "name": "stdin",
     "output_type": "stream",
     "text": [
      "ipdb>  l\n"
     ]
    },
    {
     "name": "stdout",
     "output_type": "stream",
     "text": [
      "\u001b[1;32m     19 \u001b[0m    \u001b[0;32mimport\u001b[0m \u001b[0mpdb\u001b[0m\u001b[0;34m\u001b[0m\u001b[0;34m\u001b[0m\u001b[0m\n",
      "\u001b[1;32m     20 \u001b[0m    \u001b[0mpdb\u001b[0m\u001b[0;34m.\u001b[0m\u001b[0mpm\u001b[0m\u001b[0;34m(\u001b[0m\u001b[0;34m)\u001b[0m\u001b[0;34m\u001b[0m\u001b[0;34m\u001b[0m\u001b[0m\n",
      "\u001b[1;32m     21 \u001b[0m\u001b[0;34m\u001b[0m\u001b[0m\n",
      "\u001b[1;32m     22 \u001b[0m\u001b[0msys\u001b[0m\u001b[0;34m.\u001b[0m\u001b[0mexcepthook\u001b[0m \u001b[0;34m=\u001b[0m \u001b[0mdebug\u001b[0m\u001b[0;34m\u001b[0m\u001b[0;34m\u001b[0m\u001b[0m\n",
      "\u001b[1;32m     23 \u001b[0m\u001b[0;34m\u001b[0m\u001b[0m\n",
      "\u001b[0;32m---> 24 \u001b[0;31m\u001b[0;32mraise\u001b[0m \u001b[0mValueError\u001b[0m\u001b[0;34m(\u001b[0m\u001b[0;34m\"This is a test exception\"\u001b[0m\u001b[0;34m)\u001b[0m\u001b[0;34m\u001b[0m\u001b[0;34m\u001b[0m\u001b[0m\n",
      "\u001b[0m\n"
     ]
    },
    {
     "name": "stdin",
     "output_type": "stream",
     "text": [
      "ipdb>  exit\n"
     ]
    }
   ],
   "source": [
    "%debug"
   ]
  },
  {
   "cell_type": "markdown",
   "id": "8b822a40-79c8-43d9-9403-8ffb6eb4d47b",
   "metadata": {},
   "source": [
    "### `Lib/pdb.py`\n",
    "\n",
    "|命令\t|作用 |\n",
    "| ---- | ---- |\n",
    "|n\t|执行当前行，跳到下一行 |\n",
    "|s\t|进入函数内部 |\n",
    "|c\t|继续执行直到下一个断点 |\n",
    "|l\t|显示代码上下文 |\n",
    "|p 变量名\t|打印变量值 |\n",
    "|q\t|退出调试 |"
   ]
  },
  {
   "cell_type": "code",
   "execution_count": 265,
   "id": "5f4950f5-a394-47c4-a46d-c87b15daf184",
   "metadata": {},
   "outputs": [
    {
     "name": "stdout",
     "output_type": "stream",
     "text": [
      "Python 3.10.16 (main, Dec 11 2024, 10:22:29) [Clang 14.0.6 ]\n",
      "Type 'copyright', 'credits' or 'license' for more information\n",
      "IPython 8.30.0 -- An enhanced Interactive Python. Type '?' for help.\n",
      "\n"
     ]
    },
    {
     "name": "stdin",
     "output_type": "stream",
     "text": [
      "In [1]:  p x\n"
     ]
    },
    {
     "name": "stdout",
     "output_type": "stream",
     "text": [
      "  Cell In[1], line 1\n",
      "    p x\n",
      "      ^\n",
      "SyntaxError: invalid syntax\n",
      "\n",
      "\n"
     ]
    },
    {
     "name": "stdin",
     "output_type": "stream",
     "text": [
      "In [2]:  l\n"
     ]
    },
    {
     "name": "stdout",
     "output_type": "stream",
     "text": [
      "Out[2]: ['yellow', 'band']\n",
      "\n"
     ]
    },
    {
     "name": "stdin",
     "output_type": "stream",
     "text": [
      "In [3]:  q\n"
     ]
    },
    {
     "name": "stdout",
     "output_type": "stream",
     "text": [
      "---------------------------------------------------------------------------\n",
      "NameError                                 Traceback (most recent call last)\n",
      "Cell In[3], line 1\n",
      "----> 1 q\n",
      "\n",
      "NameError: name 'q' is not defined\n",
      "\n"
     ]
    },
    {
     "name": "stdin",
     "output_type": "stream",
     "text": [
      "In [4]:  x\n"
     ]
    },
    {
     "name": "stdout",
     "output_type": "stream",
     "text": [
      "Out[4]: 4\n",
      "\n"
     ]
    },
    {
     "name": "stdin",
     "output_type": "stream",
     "text": [
      "In [5]:  exit\n"
     ]
    },
    {
     "name": "stdout",
     "output_type": "stream",
     "text": [
      "\n"
     ]
    },
    {
     "data": {
      "text/plain": [
       "8"
      ]
     },
     "execution_count": 265,
     "metadata": {},
     "output_type": "execute_result"
    }
   ],
   "source": [
    "def double(x):\n",
    "    # in jupyter notebook, use `embed()` instead of `breakpoint()`\n",
    "    from IPython import embed\n",
    "    embed()\n",
    "    # breakpoint()\n",
    "    return x * 2\n",
    "\n",
    "double(4)"
   ]
  },
  {
   "cell_type": "markdown",
   "id": "7eab720f-f617-4c09-bdd9-daac6d6d5c88",
   "metadata": {},
   "source": [
    "### `Lib/os.py`"
   ]
  },
  {
   "cell_type": "markdown",
   "id": "79473a69-6ac3-4426-b3f2-b80bb786b844",
   "metadata": {},
   "source": [
    "#### Get user id and name"
   ]
  },
  {
   "cell_type": "code",
   "execution_count": 130,
   "id": "bb92b90f-b3f1-4775-abbc-22b0f6d3d4e5",
   "metadata": {},
   "outputs": [
    {
     "name": "stdout",
     "output_type": "stream",
     "text": [
      "user name: pete, user id: 501\n"
     ]
    }
   ],
   "source": [
    "# get current user id and name\n",
    "import os\n",
    "import getpass\n",
    "print(f'user name: {getpass.getuser()}, user id: {os.getuid()}')"
   ]
  },
  {
   "cell_type": "markdown",
   "id": "7996be67-6253-464b-a269-5f985ee1d14c",
   "metadata": {},
   "source": [
    "### `Lib/datetime.py` and `time`"
   ]
  },
  {
   "cell_type": "markdown",
   "id": "5f04f4e3-13fa-43c4-8a30-e63393b34529",
   "metadata": {},
   "source": [
    "#### timestamp to datetime"
   ]
  },
  {
   "cell_type": "code",
   "execution_count": 264,
   "id": "46ebf323-b81e-4279-99df-b58b755644e8",
   "metadata": {
    "editable": true,
    "slideshow": {
     "slide_type": ""
    },
    "tags": []
   },
   "outputs": [
    {
     "name": "stdout",
     "output_type": "stream",
     "text": [
      "t=1740142648.403615, dt=datetime.datetime(2025, 2, 21, 20, 57, 28, 403615), dt=2025-02-21 20:57:28.403615\n",
      "\n",
      "2025-02-21 20:57:28.404473\n"
     ]
    }
   ],
   "source": [
    "from datetime import datetime\n",
    "import time\n",
    "\n",
    "t = time.time()\n",
    "dt = datetime.fromtimestamp(t)\n",
    "print(f'{t=}, {dt=}, {dt=!s}')\n",
    "print()\n",
    "\n",
    "n = datetime.now()\n",
    "print(f\"{n}\")"
   ]
  },
  {
   "cell_type": "markdown",
   "id": "2977934b-6669-4903-9ee9-e42db7a54da0",
   "metadata": {},
   "source": [
    "### `Lib/dataclasses.py`"
   ]
  },
  {
   "cell_type": "code",
   "execution_count": 336,
   "id": "fac86bb7-f4fd-4ba4-bb88-f0b17b3027b5",
   "metadata": {},
   "outputs": [
    {
     "name": "stdout",
     "output_type": "stream",
     "text": [
      "John   Computer Lab   1000\n"
     ]
    }
   ],
   "source": [
    "from dataclasses import dataclass\n",
    "\n",
    "@dataclass\n",
    "class Employee:\n",
    "    name: str\n",
    "    dept: str\n",
    "    salary: int\n",
    "\n",
    "john = Employee('John', 'Computer Lab', 1000)\n",
    "\n",
    "print(f'{john.name}   {john.dept}   {john.salary}')"
   ]
  },
  {
   "cell_type": "markdown",
   "id": "a93b901a-7468-4440-aebe-06b62efa798e",
   "metadata": {},
   "source": [
    "### `Lib/queue.py`\n",
    "\n",
    "The queue module implements multi-producer, multi-consumer queues. It is especially useful in threaded programming when information must be exchanged safely between multiple threads. The Queue class in this module implements all the required locking semantics.\n"
   ]
  },
  {
   "cell_type": "markdown",
   "id": "ab72a20c-d2e1-4d29-bcc9-7d56fda6f6ce",
   "metadata": {},
   "source": [
    "### Concurrent Execution\n",
    "\n",
    "https://docs.python.org/3.12/library/concurrency.html\n"
   ]
  },
  {
   "cell_type": "markdown",
   "id": "1e9c04b3-faa5-4857-9667-e8d1c789afa2",
   "metadata": {},
   "source": [
    "#### `Lib/multiprocessing/`\n",
    "\n",
    "在多线程代码中，需要把代码用 `if __name__ == '__main__':` 包括起来，以防止进程无限递归创建的问题。\n"
   ]
  },
  {
   "cell_type": "markdown",
   "id": "915b6fe1-9382-433f-8a0b-6256eb008c4c",
   "metadata": {},
   "source": [
    "\n",
    "The following code does not work in Jupyter notebook, you can copy them to a seperate Python script file to run it.\n",
    "```python\n",
    "import time\n",
    "from multiprocessing import Pool\n",
    "\n",
    "\n",
    "def f(x):\n",
    "    time.sleep(5)\n",
    "    return x * x\n",
    "\n",
    "def main():\n",
    "    with Pool(5) as p:\n",
    "        print(p.map(f, [1, 2, 3]))\n",
    "        print(p.map(f, [1, 2, 3]))\n",
    "        print(p.map(f, [1, 2, 3]))\n",
    "        print(p.map(f, [1, 2, 3]))\n",
    "        print(p.map(f, [1, 2, 3]))    \n",
    "\n",
    "if __name__ == '__main__':\n",
    "    main()\n",
    "```"
   ]
  },
  {
   "cell_type": "markdown",
   "id": "bff4bd81-42d7-4707-bfd0-51d993c0ef21",
   "metadata": {
    "editable": true,
    "slideshow": {
     "slide_type": ""
    },
    "tags": []
   },
   "source": [
    "Another Python script file:\n",
    "\n",
    "```python\n",
    "import multiprocessing as mp\n",
    "\n",
    "def washer(dishes, output):\n",
    "    for dish in dishes:\n",
    "        # print('Washing', dish, 'dish')\n",
    "        print(f'Washing {dish} dish')\n",
    "        output.put(dish)\n",
    "\n",
    "def dryer(input):\n",
    "    while True:\n",
    "        dish = input.get()\n",
    "        print(f'Drying {dish} dish')\n",
    "        # print('Drying', dish, 'dish')\n",
    "        input.task_done()\n",
    "\n",
    "def main():\n",
    "    dish_queue = mp.JoinableQueue()\n",
    "    dryer_proc = mp.Process(target=dryer, args=(dish_queue,))\n",
    "    dryer_proc.daemon = True\n",
    "    dryer_proc.start()\n",
    "    \n",
    "    dishes = ['salad', 'bread', 'entree', 'dessert']\n",
    "    washer(dishes, dish_queue)\n",
    "    dish_queue.join()    \n",
    "\n",
    "if __name__ == '__main__':\n",
    "    main()\n",
    "```\n"
   ]
  },
  {
   "cell_type": "markdown",
   "id": "1ae8b585-f6c5-4d96-a5a0-7824cd8cc706",
   "metadata": {},
   "source": [
    "#### `Lib/threading.py`\n",
    "\n"
   ]
  },
  {
   "cell_type": "code",
   "execution_count": null,
   "id": "db3add6d-8108-429a-91a7-16d10f53b5e1",
   "metadata": {},
   "outputs": [],
   "source": [
    "The following code does not work in Jupyter notebook, you can copy them to a seperate Python script file to run it.\n",
    "\n",
    "```python\n",
    "import threading\n",
    "\n",
    "print(f'{threading.active_count()=}, {threading.current_thread()=}')\n",
    "print()\n",
    "\n",
    "thread_count = 0\n",
    "for thread in threading.enumerate():\n",
    "    thread_count += 1\n",
    "    print(thread)\n",
    "    # pwrite(thread)\n",
    "print(thread_count)\n",
    "```"
   ]
  },
  {
   "cell_type": "markdown",
   "id": "1289b298-f64c-4fa4-8eca-59f91503727b",
   "metadata": {},
   "source": [
    "#### `Lib/concurrent/futures/thread.py` and `Lib/concurrent/futures/process.py`\n",
    "\n",
    "https://docs.python.org/3.13/library/concurrent.futures.html"
   ]
  },
  {
   "cell_type": "code",
   "execution_count": 9,
   "id": "570ef971-af5e-4e67-80b6-ccbcfe11c46f",
   "metadata": {},
   "outputs": [
    {
     "name": "stdout",
     "output_type": "stream",
     "text": [
      "112272535095293 is True\n",
      "112582705942171 is True\n",
      "112272535095293 is True\n",
      "115280095190773 is True\n",
      "115797848077099 is True\n",
      "1099726899285419 is False\n"
     ]
    }
   ],
   "source": [
    "import math\n",
    "\n",
    "\n",
    "def is_prime(n: int) -> bool:\n",
    "    if n <= 1:\n",
    "        return False\n",
    "    if n <= 3:\n",
    "        return True\n",
    "    if n % 2 == 0:\n",
    "        return False\n",
    "    k = int(math.floor(math.sqrt(n))) + 1\n",
    "    for x in range(3, k, 2):\n",
    "        if n % x == 0:\n",
    "            return False\n",
    "    return True\n",
    "\n",
    "\n",
    "import concurrent.futures as cf\n",
    "\n",
    "PRIMES = [\n",
    "    112272535095293,\n",
    "    112582705942171,\n",
    "    112272535095293,\n",
    "    115280095190773,\n",
    "    115797848077099,\n",
    "    1099726899285419\n",
    "]\n",
    "\n",
    "\n",
    "def main():\n",
    "    # with cf.ProcessPoolExecutor() as executor:\n",
    "    with cf.ThreadPoolExecutor() as executor:\n",
    "        for prime, isprime in zip(PRIMES, executor.map(is_prime, PRIMES)):\n",
    "            print(f'{prime} is {isprime}')\n",
    "\n",
    "if __name__ == '__main__':\n",
    "    main()\n",
    "\n"
   ]
  },
  {
   "cell_type": "markdown",
   "id": "7e936555-af3a-4eb1-861e-38856e4b8002",
   "metadata": {},
   "source": [
    "The `ProcessPoolExecutor()` can't run in Jupyter notebook.\n",
    "```python\n",
    "def main():\n",
    "    with cf.ProcessPoolExecutor() as executor:\n",
    "        for prime, isprime in zip(PRIMES, executor.map(is_prime, PRIMES)):\n",
    "            print(f'{prime} is {isprime}')\n",
    "main()\n",
    "```"
   ]
  },
  {
   "cell_type": "markdown",
   "id": "f24ed2e5-1f0c-4a42-97b1-5aa5929c3e13",
   "metadata": {},
   "source": [
    "The `ProcessPoolExecutor()` can't run in Jupyter notebook.\n",
    "```python\n",
    "def main():\n",
    "    with cf.ProcessPoolExecutor() as executor:\n",
    "        futures = {executor.submit(is_prime, prime): prime for prime in PRIMES}\n",
    "        for future in cf.as_completed(futures):\n",
    "            prime = futures[future]\n",
    "            isprime = future.result()\n",
    "            print(f'{prime} is {isprime}')\n",
    "main()\n",
    "```"
   ]
  },
  {
   "cell_type": "markdown",
   "id": "9b15a367-c4a3-478d-a087-4a576bfc1205",
   "metadata": {},
   "source": [
    "### `Lib/random.py`"
   ]
  },
  {
   "cell_type": "markdown",
   "id": "678e437c-3742-47ca-bfd1-234983df45ff",
   "metadata": {},
   "source": [
    "## Built-in Exceptions\n",
    "\n",
    "```\n",
    "BaseException\n",
    " ├── BaseExceptionGroup\n",
    " ├── GeneratorExit\n",
    " ├── KeyboardInterrupt\n",
    " ├── SystemExit\n",
    " └── Exception\n",
    "      ├── ArithmeticError\n",
    "      │    ├── FloatingPointError\n",
    "      │    ├── OverflowError\n",
    "      │    └── ZeroDivisionError\n",
    "      ├── AssertionError\n",
    "      ├── AttributeError\n",
    "      ├── BufferError\n",
    "      ├── EOFError\n",
    "      ├── ExceptionGroup [BaseExceptionGroup]\n",
    "      ├── ImportError\n",
    "      │    └── ModuleNotFoundError\n",
    "      ├── LookupError\n",
    "      │    ├── IndexError\n",
    "      │    └── KeyError\n",
    "      ├── MemoryError\n",
    "      ├── NameError\n",
    "      │    └── UnboundLocalError\n",
    "      ├── OSError\n",
    "      │    ├── BlockingIOError\n",
    "      │    ├── ChildProcessError\n",
    "      │    ├── ConnectionError\n",
    "      │    │    ├── BrokenPipeError\n",
    "      │    │    ├── ConnectionAbortedError\n",
    "      │    │    ├── ConnectionRefusedError\n",
    "      │    │    └── ConnectionResetError\n",
    "      │    ├── FileExistsError\n",
    "      │    ├── FileNotFoundError\n",
    "      │    ├── InterruptedError\n",
    "      │    ├── IsADirectoryError\n",
    "      │    ├── NotADirectoryError\n",
    "      │    ├── PermissionError\n",
    "      │    ├── ProcessLookupError\n",
    "      │    └── TimeoutError\n",
    "      ├── ReferenceError\n",
    "      ├── RuntimeError\n",
    "      │    ├── NotImplementedError\n",
    "      │    └── RecursionError\n",
    "      ├── StopAsyncIteration\n",
    "      ├── StopIteration\n",
    "      ├── SyntaxError\n",
    "      │    └── IndentationError\n",
    "      │         └── TabError\n",
    "      ├── SystemError\n",
    "      ├── *TypeError*\n",
    "      ├── *ValueError*\n",
    "      │    └── UnicodeError\n",
    "      │         ├── UnicodeDecodeError\n",
    "      │         ├── UnicodeEncodeError\n",
    "      │         └── UnicodeTranslateError\n",
    "      └── Warning\n",
    "           ├── BytesWarning\n",
    "           ├── DeprecationWarning\n",
    "           ├── EncodingWarning\n",
    "           ├── FutureWarning\n",
    "           ├── ImportWarning\n",
    "           ├── PendingDeprecationWarning\n",
    "           ├── ResourceWarning\n",
    "           ├── RuntimeWarning\n",
    "           ├── SyntaxWarning\n",
    "           ├── UnicodeWarning\n",
    "           └── UserWarning\n",
    "```"
   ]
  },
  {
   "cell_type": "markdown",
   "id": "23eb47ee-2556-4ca6-b856-b59d6546d432",
   "metadata": {},
   "source": [
    "## `inspect`"
   ]
  },
  {
   "cell_type": "markdown",
   "id": "3dc264ec-dba2-4570-aec5-a38f5c894d7d",
   "metadata": {},
   "source": [
    "## Memory management\n",
    "\n",
    "Python 的 memory Allocator 有三个 Domains:\n",
    "1. Raw domain\n",
    "    a. 是 system allocator 直接分配的，不需要 GIL \n",
    "2. \"Mem\" domain\n",
    "    a. 来自 Python private heap ， 需要 GIL \n",
    "3. Object domain\n",
    "    a. 为了 Python 中的对象分配内存，来自 Python private heap \n",
    "\n",
    "Python 自动处理大部分内存分配和释放的工作。主要通过以下几个机制：\n",
    "1. 引用计数 (Reference counting)\n",
    "2. 垃圾回收 (Garbage collection)\n",
    "3. 内存池\n",
    "    1. PyMalloc 分配器 是 Python 针对短生命周期的小对象（512 bytes）的一个优化。 \n",
    "4. 内容管理中的小对象\n",
    "\n",
    "开发者可以通过以下方式优化内存使用：\n",
    "1. 使用 生成器 (Generator)\n",
    "2. 尽量避免使用全局变量\n",
    "3. 避免不必要的对象创建\n",
    "4. 使用 del 删除不再需要的变量"
   ]
  },
  {
   "cell_type": "code",
   "execution_count": 26,
   "id": "d80c0558-a59d-4099-9e06-812b4a98fa08",
   "metadata": {},
   "outputs": [
    {
     "name": "stdout",
     "output_type": "stream",
     "text": [
      "False 5857166672 5857167408\n",
      "True 4343225936 4343225936\n",
      "True 4343234288 4343234288\n",
      "False 5857167184 5857167504\n",
      "True 4343288728 4343288728\n"
     ]
    }
   ],
   "source": [
    "a = -6\n",
    "b = -6\n",
    "print(a is b, id(a), id(b))\n",
    "\n",
    "a = -5\n",
    "b = -5\n",
    "print(a is b, id(a), id(b))\n",
    "\n",
    "a = 256\n",
    "b = 256\n",
    "print(a is b, id(a), id(b))\n",
    "\n",
    "a = 257\n",
    "b = 257\n",
    "print(a is b, id(a), id(b))\n",
    "\n",
    "a = 'a'\n",
    "b = 'a'\n",
    "print(a is b, id(a), id(b))"
   ]
  },
  {
   "cell_type": "code",
   "execution_count": 35,
   "id": "adb2be99-cce3-4b94-8125-0569e8ce1039",
   "metadata": {},
   "outputs": [
    {
     "name": "stdout",
     "output_type": "stream",
     "text": [
      "2\n",
      "3\n",
      "2\n",
      "3\n",
      "2\n"
     ]
    }
   ],
   "source": [
    "import sys\n",
    "\n",
    "a = [1, 2, 3]\n",
    "print(sys.getrefcount(a))\n",
    "\n",
    "b = a\n",
    "print(sys.getrefcount(a))\n",
    "\n",
    "del b\n",
    "print(sys.getrefcount(a))\n",
    "\n",
    "c = []\n",
    "c.append(a)\n",
    "print(sys.getrefcount(a))\n",
    "\n",
    "del c\n",
    "print(sys.getrefcount(a))"
   ]
  },
  {
   "cell_type": "markdown",
   "id": "b2ad15c6-7aef-4a8f-a6aa-6d83873ac317",
   "metadata": {},
   "source": [
    "## Design patterns"
   ]
  },
  {
   "cell_type": "code",
   "execution_count": null,
   "id": "0c42a9b0-818b-44be-bf51-a407b97b9efd",
   "metadata": {},
   "outputs": [],
   "source": [
    "### Singleton"
   ]
  },
  {
   "cell_type": "markdown",
   "id": "5f95646b-bf6a-4c56-99a5-683c116f8212",
   "metadata": {},
   "source": [
    "## Pytest\n",
    "\n",
    "how to use Pytest? \n",
    "https://docs.pytest.org/en/stable/how-to/usage.html"
   ]
  },
  {
   "cell_type": "markdown",
   "id": "9359022d-af36-42a9-bab7-b3ce41b85b98",
   "metadata": {},
   "source": [
    "## Selenium\n",
    "\n",
    "https://www.selenium.dev/documentation/webdriver/getting_started/first_script/"
   ]
  },
  {
   "cell_type": "markdown",
   "id": "8f0173aa-5181-4377-a045-6d992ca192f2",
   "metadata": {},
   "source": [
    "## Playwright\n",
    "\n",
    "https://playwright.dev/python/docs/writing-tests"
   ]
  },
  {
   "cell_type": "code",
   "execution_count": null,
   "id": "00b6d684-a146-442e-a487-23ffb57da41f",
   "metadata": {},
   "outputs": [],
   "source": []
  },
  {
   "cell_type": "markdown",
   "id": "831a737c-d9c1-449d-bbdb-1d8e9fb1c725",
   "metadata": {},
   "source": [
    "## Behavior Driven Development - Behave\n",
    "\n",
    "https://behave.readthedocs.io/en/latest/tutorial/"
   ]
  },
  {
   "cell_type": "markdown",
   "id": "d24435e9-c915-422e-ab41-d65c29bc87ee",
   "metadata": {},
   "source": [
    "## numpy"
   ]
  },
  {
   "cell_type": "code",
   "execution_count": 10,
   "id": "6ee2495f-17b1-44f8-8519-240b8a1d1cba",
   "metadata": {},
   "outputs": [
    {
     "name": "stdout",
     "output_type": "stream",
     "text": [
      "type- <class 'numpy.ndarray'>, !r- array([1., 2., 3.]), !s- [1. 2. 3.]\n",
      "type- <class 'numpy.ndarray'>, !r- array([2., 4., 9.]), !s- [2. 4. 9.]\n",
      "(3,) float64\n",
      "(3,) float64\n"
     ]
    }
   ],
   "source": [
    "import numpy as np\n",
    "\n",
    "x = np.array([1.0, 2.0, 3.0])\n",
    "y = np.array([2.0, 4.0, 9.0])\n",
    "\n",
    "pwrite(x)\n",
    "pwrite(y)\n",
    "print(x.shape, x.dtype)\n",
    "print(y.shape, y.dtype)"
   ]
  },
  {
   "cell_type": "code",
   "execution_count": 12,
   "id": "d688782f-5328-43a7-b58c-dcbbe2dc5323",
   "metadata": {},
   "outputs": [
    {
     "data": {
      "text/plain": [
       "array([ 3.,  6., 12.])"
      ]
     },
     "execution_count": 12,
     "metadata": {},
     "output_type": "execute_result"
    }
   ],
   "source": [
    "x + y"
   ]
  },
  {
   "cell_type": "code",
   "execution_count": 14,
   "id": "1aad811f-3d30-496b-8d2a-c45a988945ad",
   "metadata": {},
   "outputs": [
    {
     "data": {
      "text/plain": [
       "array([-1., -2., -6.])"
      ]
     },
     "execution_count": 14,
     "metadata": {},
     "output_type": "execute_result"
    }
   ],
   "source": [
    "x - y"
   ]
  },
  {
   "cell_type": "code",
   "execution_count": 16,
   "id": "89c6815f-f055-4411-9214-f56c9a360e5b",
   "metadata": {},
   "outputs": [
    {
     "data": {
      "text/plain": [
       "array([ 2.,  8., 27.])"
      ]
     },
     "execution_count": 16,
     "metadata": {},
     "output_type": "execute_result"
    }
   ],
   "source": [
    "x * y"
   ]
  },
  {
   "cell_type": "code",
   "execution_count": 18,
   "id": "2a7fda94-7c20-4c05-ad8f-9fb332f30268",
   "metadata": {},
   "outputs": [
    {
     "data": {
      "text/plain": [
       "array([2., 2., 3.])"
      ]
     },
     "execution_count": 18,
     "metadata": {},
     "output_type": "execute_result"
    }
   ],
   "source": [
    "y / x"
   ]
  },
  {
   "cell_type": "code",
   "execution_count": 20,
   "id": "f47aca65-7d77-474b-930a-d80aaf9c0cb0",
   "metadata": {},
   "outputs": [
    {
     "data": {
      "text/plain": [
       "array([11., 12., 13.])"
      ]
     },
     "execution_count": 20,
     "metadata": {},
     "output_type": "execute_result"
    }
   ],
   "source": [
    "x + 10"
   ]
  },
  {
   "cell_type": "code",
   "execution_count": 22,
   "id": "ccbc464b-08e2-43be-96f7-7fc55cc164ff",
   "metadata": {},
   "outputs": [
    {
     "data": {
      "text/plain": [
       "array([11., 22., 33.])"
      ]
     },
     "execution_count": 22,
     "metadata": {},
     "output_type": "execute_result"
    }
   ],
   "source": [
    "x * 11"
   ]
  },
  {
   "cell_type": "code",
   "execution_count": 24,
   "id": "af9f3349-5bf1-48db-836f-a3edd963d5a7",
   "metadata": {},
   "outputs": [
    {
     "name": "stdout",
     "output_type": "stream",
     "text": [
      "type- <class 'numpy.ndarray'>, !r- array([[1, 2],\n",
      "       [3, 4]]), !s- [[1 2]\n",
      " [3 4]]\n",
      "type- <class 'numpy.ndarray'>, !r- array([[5, 6],\n",
      "       [7, 8]]), !s- [[5 6]\n",
      " [7 8]]\n",
      "(2, 2) int64\n"
     ]
    }
   ],
   "source": [
    "A = np.array(\n",
    "    [\n",
    "        [1, 2],\n",
    "        [3, 4]\n",
    "    ]\n",
    ")\n",
    "\n",
    "B = np.array(\n",
    "    [\n",
    "        [5, 6],\n",
    "        [7, 8]\n",
    "    ]\n",
    ")\n",
    "\n",
    "pwrite(A)\n",
    "pwrite(B)\n",
    "\n",
    "print(A.shape, A.dtype)"
   ]
  },
  {
   "cell_type": "code",
   "execution_count": 26,
   "id": "fd129acd-ecdc-4a2c-ad77-35aa8bcd355d",
   "metadata": {},
   "outputs": [
    {
     "data": {
      "text/plain": [
       "array([[ 6,  8],\n",
       "       [10, 12]])"
      ]
     },
     "execution_count": 26,
     "metadata": {},
     "output_type": "execute_result"
    }
   ],
   "source": [
    "A + B"
   ]
  },
  {
   "cell_type": "code",
   "execution_count": 28,
   "id": "8866f927-77f2-403d-b68b-4b81964e9b15",
   "metadata": {},
   "outputs": [
    {
     "data": {
      "text/plain": [
       "array([[4, 4],\n",
       "       [4, 4]])"
      ]
     },
     "execution_count": 28,
     "metadata": {},
     "output_type": "execute_result"
    }
   ],
   "source": [
    "B - A"
   ]
  },
  {
   "cell_type": "code",
   "execution_count": 30,
   "id": "de609017-5b79-49d5-8921-3ead86830fe6",
   "metadata": {},
   "outputs": [
    {
     "name": "stdout",
     "output_type": "stream",
     "text": [
      "[[ 5 12]\n",
      " [21 32]] 5\n"
     ]
    }
   ],
   "source": [
    "C = A * B\n",
    "print(C, C[0][0])"
   ]
  },
  {
   "cell_type": "code",
   "execution_count": 32,
   "id": "2de67f15-6ecc-4a9c-8dc7-f272664cc2ea",
   "metadata": {},
   "outputs": [
    {
     "name": "stdout",
     "output_type": "stream",
     "text": [
      "[ 5 12]\n",
      "[21 32]\n"
     ]
    }
   ],
   "source": [
    "for r in C:\n",
    "    print(r)"
   ]
  },
  {
   "cell_type": "code",
   "execution_count": 34,
   "id": "4cdd997e-40b9-4b22-ae2c-2b7555de8aec",
   "metadata": {},
   "outputs": [
    {
     "data": {
      "text/plain": [
       "array([ 5, 12, 21, 32])"
      ]
     },
     "execution_count": 34,
     "metadata": {},
     "output_type": "execute_result"
    }
   ],
   "source": [
    "D = C.flatten()\n",
    "D\n"
   ]
  },
  {
   "cell_type": "code",
   "execution_count": 36,
   "id": "f1d95cd7-e104-4c12-b2fe-810b50be19a7",
   "metadata": {},
   "outputs": [
    {
     "data": {
      "text/plain": [
       "array([ 5, 21])"
      ]
     },
     "execution_count": 36,
     "metadata": {},
     "output_type": "execute_result"
    }
   ],
   "source": [
    "D[np.array([0, 2])]"
   ]
  },
  {
   "cell_type": "code",
   "execution_count": 38,
   "id": "cc4cb08a-bc9b-48a1-b2fe-f954c04f8cec",
   "metadata": {},
   "outputs": [
    {
     "data": {
      "text/plain": [
       "array([False, False,  True,  True])"
      ]
     },
     "execution_count": 38,
     "metadata": {},
     "output_type": "execute_result"
    }
   ],
   "source": [
    "D > 20"
   ]
  },
  {
   "cell_type": "code",
   "execution_count": 40,
   "id": "36ebd4fc-ef80-42ec-8eb4-8453f26ab4c0",
   "metadata": {},
   "outputs": [
    {
     "data": {
      "text/plain": [
       "array([21, 32])"
      ]
     },
     "execution_count": 40,
     "metadata": {},
     "output_type": "execute_result"
    }
   ],
   "source": [
    "D[D>20]"
   ]
  },
  {
   "cell_type": "markdown",
   "id": "724e3c28-2539-4ac7-8983-ad0386a0aa8d",
   "metadata": {},
   "source": [
    "## matplotlib"
   ]
  },
  {
   "cell_type": "code",
   "execution_count": 43,
   "id": "f67e1649-d365-4f6a-b145-cc47d4482472",
   "metadata": {},
   "outputs": [],
   "source": [
    "import numpy as np\n",
    "import matplotlib.pyplot as plt\n",
    "\n",
    "x = np.arange(0, 6, 0.1)\n",
    "y = np.sin(x)"
   ]
  },
  {
   "cell_type": "code",
   "execution_count": 45,
   "id": "239e88f5-c474-4c3f-a72e-3e765dee4221",
   "metadata": {},
   "outputs": [
    {
     "data": {
      "text/plain": [
       "[<matplotlib.lines.Line2D at 0x12fa238e0>]"
      ]
     },
     "execution_count": 45,
     "metadata": {},
     "output_type": "execute_result"
    },
    {
     "data": {
      "image/png": "[encoded data removed]",
      "text/plain": [
       "<Figure size 640x480 with 1 Axes>"
      ]
     },
     "metadata": {},
     "output_type": "display_data"
    }
   ],
   "source": [
    "plt.plot(x, y)"
   ]
  },
  {
   "cell_type": "code",
   "execution_count": 49,
   "id": "fa446685-2337-49c6-9c87-65ccadd7e4e5",
   "metadata": {},
   "outputs": [],
   "source": [
    "plt.show()"
   ]
  },
  {
   "cell_type": "code",
   "execution_count": 57,
   "id": "c038b0c7-e3d4-45cc-a3be-9bb16135987d",
   "metadata": {},
   "outputs": [
    {
     "data": {
      "image/png": "[encoded data removed]",
      "text/plain": [
       "<Figure size 640x480 with 1 Axes>"
      ]
     },
     "metadata": {},
     "output_type": "display_data"
    }
   ],
   "source": [
    "y1 = np.sin(x)\n",
    "y2 = np.cos(x)\n",
    "\n",
    "plt.plot(x, y1, label=\"sin\")\n",
    "plt.plot(x, y2, linestyle=\"--\", label=\"cos\")\n",
    "plt.xlabel(\"x\")\n",
    "plt.ylabel(\"y\")\n",
    "plt.title(\"sin & cos\")\n",
    "plt.legend()\n",
    "plt.show()"
   ]
  },
  {
   "cell_type": "code",
   "execution_count": 69,
   "id": "b6cc8ad1-0cb5-4537-a20d-8897b67cd5a8",
   "metadata": {},
   "outputs": [
    {
     "data": {
      "text/plain": [
       "<matplotlib.image.AxesImage at 0x14f8dd0f0>"
      ]
     },
     "execution_count": 69,
     "metadata": {},
     "output_type": "execute_result"
    },
    {
     "data": {
      "image/png": "[encoded data removed]",
      "text/plain": [
       "<Figure size 640x480 with 1 Axes>"
      ]
     },
     "metadata": {},
     "output_type": "display_data"
    }
   ],
   "source": [
    "import matplotlib.image as pltim\n",
    "\n",
    "# import os\n",
    "# from pathlib import Path\n",
    "# print(os.getcwd())\n",
    "# print(Path.cwd() / \"..\" / \"data/lena_color.gif\")\n",
    "img = pltim.imread(\"../data/lena_gray.gif\")\n",
    "plt.imshow(img)"
   ]
  },
  {
   "cell_type": "markdown",
   "id": "2b186368-2e66-42b4-b6d6-29b6d736132d",
   "metadata": {},
   "source": [
    "## Quiz"
   ]
  },
  {
   "cell_type": "code",
   "execution_count": null,
   "id": "3edee791-39b2-456e-a3e5-fbade65d9f1b",
   "metadata": {},
   "outputs": [],
   "source": []
  }
 ],
 "metadata": {
  "kernelspec": {
   "display_name": "Python [conda env:base] *",
   "language": "python",
   "name": "conda-base-py"
  },
  "language_info": {
   "codemirror_mode": {
    "name": "ipython",
    "version": 3
   },
   "file_extension": ".py",
   "mimetype": "text/x-python",
   "name": "python",
   "nbconvert_exporter": "python",
   "pygments_lexer": "ipython3",
   "version": "3.10.16"
  }
 },
 "nbformat": 4,
 "nbformat_minor": 5
}
